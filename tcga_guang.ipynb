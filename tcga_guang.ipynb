{
  "nbformat": 4,
  "nbformat_minor": 0,
  "metadata": {
    "colab": {
      "name": "tcga_guang.ipynb",
      "provenance": [],
      "collapsed_sections": [
        "gxjT1viMLwCP"
      ],
      "machine_shape": "hm",
      "include_colab_link": true
    },
    "kernelspec": {
      "name": "python3",
      "display_name": "Python 3"
    }
  },
  "cells": [
    {
      "cell_type": "markdown",
      "metadata": {
        "id": "view-in-github",
        "colab_type": "text"
      },
      "source": [
        "<a href=\"https://colab.research.google.com/github/guang-zh/ai4genomics_TCGA_Benchmark/blob/master/tcga_guang.ipynb\" target=\"_parent\"><img src=\"https://colab.research.google.com/assets/colab-badge.svg\" alt=\"Open In Colab\"/></a>"
      ]
    },
    {
      "cell_type": "markdown",
      "metadata": {
        "id": "r13WiUwevdCL",
        "colab_type": "text"
      },
      "source": [
        "## Auto Encoder (AE), Variational Auto Encoder (VAE), \n",
        "## conditional Variational Auto Encoder (cVAE)"
      ]
    },
    {
      "cell_type": "markdown",
      "metadata": {
        "id": "32DMCdHEZMz_",
        "colab_type": "text"
      },
      "source": [
        "Different Generative Models:\n",
        "*   CNN: spatial data & many filters\n",
        "*   GAN: generator & discriminator\n",
        "*   AE: Encoder & Decoder, features learned through compressions\n",
        "*   VAE: trade-off of latent loss & reconstruction loss; hidden neurons fit into a specific distribution\n",
        "*   cVAE: latent variables, data, both conditioned to some random variables\n",
        "\n",
        "*   VAE vs AE: VAE added the distribution fitting & latent vector\n",
        "*   VAE vs cVAE: cVAE added the conditions using one-hot vectors"
      ]
    },
    {
      "cell_type": "markdown",
      "metadata": {
        "id": "KnWXWZ3sfFYl",
        "colab_type": "text"
      },
      "source": [
        "# Step 1 - Download the datasets"
      ]
    },
    {
      "cell_type": "code",
      "metadata": {
        "id": "4hFUrtlZ4LFA",
        "colab_type": "code",
        "outputId": "1aa02e70-eeb1-42d4-a7bb-dd645c184bd4",
        "colab": {
          "base_uri": "https://localhost:8080/",
          "height": 125
        }
      },
      "source": [
        "from os.path import join\n",
        "from google.colab import drive\n",
        "\n",
        "ROOT = \"/content/drive\"\n",
        "drive.mount(ROOT)"
      ],
      "execution_count": 0,
      "outputs": [
        {
          "output_type": "stream",
          "text": [
            "Go to this URL in a browser: https://accounts.google.com/o/oauth2/auth?client_id=947318989803-6bn6qk8qdgf4n4g3pfee6491hc0brc4i.apps.googleusercontent.com&redirect_uri=urn%3aietf%3awg%3aoauth%3a2.0%3aoob&response_type=code&scope=email%20https%3a%2f%2fwww.googleapis.com%2fauth%2fdocs.test%20https%3a%2f%2fwww.googleapis.com%2fauth%2fdrive%20https%3a%2f%2fwww.googleapis.com%2fauth%2fdrive.photos.readonly%20https%3a%2f%2fwww.googleapis.com%2fauth%2fpeopleapi.readonly\n",
            "\n",
            "Enter your authorization code:\n",
            "··········\n",
            "Mounted at /content/drive\n"
          ],
          "name": "stdout"
        }
      ]
    },
    {
      "cell_type": "code",
      "metadata": {
        "id": "F1Du83Lc5AOR",
        "colab_type": "code",
        "colab": {}
      },
      "source": [
        "PROJ = \"My Drive/AI4genomics/TCGA_Benchmark-master\" # This is a custom path.\n",
        "PROJECT_PATH = join(ROOT, PROJ)"
      ],
      "execution_count": 0,
      "outputs": []
    },
    {
      "cell_type": "code",
      "metadata": {
        "id": "olzXes6n5cwq",
        "colab_type": "code",
        "colab": {}
      },
      "source": [
        "from importlib.machinery import SourceFileLoader\n",
        "TCGA = SourceFileLoader('tcga', join(PROJECT_PATH, 'meta_dataloader/TCGA.py')).load_module()"
      ],
      "execution_count": 0,
      "outputs": []
    },
    {
      "cell_type": "code",
      "metadata": {
        "id": "1ga0Pe9v76H0",
        "colab_type": "code",
        "colab": {}
      },
      "source": [
        "import sys\n",
        "import pdb\n",
        "\n",
        "# import meta_dataloader.TCGA\n",
        "\n",
        "#import models.mlp, models.gcn\n",
        "import numpy as np\n",
        "# import data.gene_graphs\n",
        "import collections\n",
        "import sklearn.metrics\n",
        "import sklearn.model_selection\n",
        "import random\n",
        "from collections import OrderedDict\n",
        "import pandas as pd\n",
        "from torch.optim import Optimizer\n",
        "import torch\n",
        "import torch.nn as nn\n",
        "import torch.nn.functional as F\n",
        "from torch.utils.data import DataLoader, TensorDataset\n",
        "from torch import Tensor\n",
        "%load_ext autoreload\n",
        "%autoreload 2"
      ],
      "execution_count": 0,
      "outputs": []
    },
    {
      "cell_type": "markdown",
      "metadata": {
        "id": "Do3AaQvuabM8",
        "colab_type": "text"
      },
      "source": [
        "Here we only do this to know the size of the samples"
      ]
    },
    {
      "cell_type": "code",
      "metadata": {
        "id": "kLyqYM0DNT0V",
        "colab_type": "code",
        "outputId": "771c12dc-3d04-4326-e461-3a2c04891181",
        "colab": {
          "base_uri": "https://localhost:8080/",
          "height": 34
        }
      },
      "source": [
        "import h5py\n",
        "f1 = h5py.File('drive/My Drive/AI4genomics/TCGA_Benchmark-master/meta_dataloader/data/TCGA_HiSeqV2.hdf5', 'r')\n",
        "dset = f1['dataset']\n",
        "print(dset.shape)"
      ],
      "execution_count": 0,
      "outputs": [
        {
          "output_type": "stream",
          "text": [
            "(10459, 20530)\n"
          ],
          "name": "stdout"
        }
      ]
    },
    {
      "cell_type": "code",
      "metadata": {
        "id": "J1mvQvKVf1p2",
        "colab_type": "code",
        "outputId": "3448cf15-a5e3-4071-f5cc-4465d6c0fc00",
        "colab": {
          "base_uri": "https://localhost:8080/",
          "height": 52
        }
      },
      "source": [
        "print(sys.version)"
      ],
      "execution_count": 0,
      "outputs": [
        {
          "output_type": "stream",
          "text": [
            "3.6.9 (default, Nov  7 2019, 10:44:02) \n",
            "[GCC 8.3.0]\n"
          ],
          "name": "stdout"
        }
      ]
    },
    {
      "cell_type": "code",
      "metadata": {
        "id": "yRJJrqBkgz_J",
        "colab_type": "code",
        "outputId": "9de50e4a-49fa-4baf-871b-3416930456f6",
        "colab": {
          "base_uri": "https://localhost:8080/",
          "height": 72
        }
      },
      "source": [
        "tasks = TCGA.TCGAMeta(min_samples_per_class=10)\n",
        "#task = tasks[113]"
      ],
      "execution_count": 0,
      "outputs": [
        {
          "output_type": "stream",
          "text": [
            "/content/drive/My Drive/AI4genomics/TCGA_Benchmark-master/meta_dataloader/TCGA.py:39: H5pyDeprecationWarning: The default file mode will change to 'r' (read-only) in h5py 3.0. To suppress this warning, pass the mode you need to h5py.File(), or set the global default h5.get_config().default_file_mode, or set the environment variable H5PY_DEFAULT_READONLY=1. Available modes are: 'r', 'r+', 'w', 'w-'/'x', 'a'. See the docs for details.\n",
            "  f = h5py.File(hdf_file)\n"
          ],
          "name": "stderr"
        }
      ]
    },
    {
      "cell_type": "code",
      "metadata": {
        "id": "xDkZFwaUhR2S",
        "colab_type": "code",
        "outputId": "49bcbaac-3b5a-4513-9b64-c7928137512a",
        "colab": {
          "base_uri": "https://localhost:8080/",
          "height": 34
        }
      },
      "source": [
        "len(tasks)"
      ],
      "execution_count": 0,
      "outputs": [
        {
          "output_type": "execute_result",
          "data": {
            "text/plain": [
              "174"
            ]
          },
          "metadata": {
            "tags": []
          },
          "execution_count": 8
        }
      ]
    },
    {
      "cell_type": "code",
      "metadata": {
        "id": "X3EdvWoShbVh",
        "colab_type": "code",
        "outputId": "7b37c886-e5c5-4b70-92ec-ee6c2966c3d4",
        "colab": {
          "base_uri": "https://localhost:8080/",
          "height": 212
        }
      },
      "source": [
        "# for taskid in tasks.task_ids:\n",
        "#     task_name = taskid\n",
        "    task = TCGA.TCGATask(tasks.task_ids[0])\n",
        "    # print(task)\n",
        "    print(tasks[0])\n",
        "    print(task.__dict__.keys())\n",
        "    print(len(task._samples))\n",
        "    print(task._samples)\n",
        "    print(task._samples[0])"
      ],
      "execution_count": 0,
      "outputs": [
        {
          "output_type": "stream",
          "text": [
            "<tcga.TCGATask object at 0x7fbe001feef0>\n",
            "dict_keys(['id', 'transform', 'target_transform', 'gene_ids', '_all_sample_ids', '_labels', 'categories', 'num_classes', '_samples', 'input_size'])\n",
            "45\n",
            "[[10.123   4.9528  0.     ... 11.3176  3.6325 10.9319]\n",
            " [10.1826  5.5601  0.     ... 11.5091  7.4343 10.5548]\n",
            " [11.9779  6.0303  0.     ... 12.7958  7.7172 10.2364]\n",
            " ...\n",
            " [10.2125  7.3929  0.     ... 11.4442  0.9771 10.5199]\n",
            " [ 9.7362  4.7061  0.     ... 11.4838  7.9821 11.4966]\n",
            " [11.9084  6.284   0.     ... 12.7581  6.8495 10.1681]]\n",
            "[10.123   4.9528  0.     ... 11.3176  3.6325 10.9319]\n"
          ],
          "name": "stdout"
        }
      ]
    },
    {
      "cell_type": "markdown",
      "metadata": {
        "id": "NaTrFNgRgJIQ",
        "colab_type": "text"
      },
      "source": [
        "# Step 2 - Load and preprocess the dataset "
      ]
    },
    {
      "cell_type": "markdown",
      "metadata": {
        "id": "ojmxAnpF9lxe",
        "colab_type": "text"
      },
      "source": [
        "## 2.1 Single Task (train & test sets)"
      ]
    },
    {
      "cell_type": "code",
      "metadata": {
        "id": "fMiEfER7pm-0",
        "colab_type": "code",
        "colab": {}
      },
      "source": [
        "# create the test-train steps\n",
        "def load_sets(task, valid=False):\n",
        "     \n",
        "    X_train, X_test, y_train, y_test = sklearn.model_selection.train_test_split(task._samples, \n",
        "                                                                                task._labels, \n",
        "                                                                                stratify=task._labels,\n",
        "                                                                                train_size=0.80,\n",
        "                                                                                test_size=0.20,\n",
        "                                                                                shuffle=True,\n",
        "                                                                                random_state=0\n",
        "                                                                                 )\n",
        "    \n",
        "    train_set = TensorDataset( Tensor(X_train), Tensor(y_train))\n",
        "    test_set = TensorDataset( Tensor(X_test), Tensor(y_test))\n",
        "    \n",
        "    return train_set, test_set "
      ],
      "execution_count": 0,
      "outputs": []
    },
    {
      "cell_type": "code",
      "metadata": {
        "id": "WRTt6OprhWLC",
        "colab_type": "code",
        "colab": {}
      },
      "source": [
        "task = tasks[0]\n",
        "train_set, test_set = load_sets(task, valid=False)"
      ],
      "execution_count": 0,
      "outputs": []
    },
    {
      "cell_type": "code",
      "metadata": {
        "id": "kbkAs1OqhfHq",
        "colab_type": "code",
        "colab": {}
      },
      "source": [
        "print(len(train_set))\n",
        "print(len(test_set))"
      ],
      "execution_count": 0,
      "outputs": []
    },
    {
      "cell_type": "code",
      "metadata": {
        "id": "dAoUl78YylUF",
        "colab_type": "code",
        "colab": {}
      },
      "source": [
        "train_loader = torch.utils.data.DataLoader(train_set, batch_size=32,\n",
        "                                         shuffle=True)\n",
        "test_loader = torch.utils.data.DataLoader(test_set, batch_size=32,\n",
        "                                         shuffle=True)\n",
        "\n",
        "print(len(train_loader))\n",
        "print(len(test_loader))"
      ],
      "execution_count": 0,
      "outputs": []
    },
    {
      "cell_type": "code",
      "metadata": {
        "id": "Dnu40ew2-T59",
        "colab_type": "code",
        "colab": {}
      },
      "source": [
        "print(vars(train_loader))\n",
        "print(train_loader.__dict__.keys())"
      ],
      "execution_count": 0,
      "outputs": []
    },
    {
      "cell_type": "markdown",
      "metadata": {
        "id": "PhHRPdl1-6em",
        "colab_type": "text"
      },
      "source": [
        "## 2.2 All tasks (test, train sets)"
      ]
    },
    {
      "cell_type": "markdown",
      "metadata": {
        "id": "Ymb-WT_DTAD6",
        "colab_type": "text"
      },
      "source": [
        "### Define load_all_tasks_sets\n",
        "\n"
      ]
    },
    {
      "cell_type": "code",
      "metadata": {
        "id": "3jFKxnu4PNf-",
        "colab_type": "code",
        "colab": {}
      },
      "source": [
        "import numpy as np\n",
        "\n",
        "all_X = np.load(join(PROJECT_PATH, 'meta_dataloader/all_X.npy'))\n",
        "all_Y = np.load(join(PROJECT_PATH, 'meta_dataloader/all_Y.npy'))"
      ],
      "execution_count": 0,
      "outputs": []
    },
    {
      "cell_type": "code",
      "metadata": {
        "id": "QJXmetWkFOx_",
        "colab_type": "code",
        "colab": {}
      },
      "source": [
        "import os.path\n",
        "import pdb\n",
        "\n",
        "def load_all_tasks_sets(tasks):\n",
        "  # When task ID is provided, each sample should be a vector [gene1, gene2, ...., gene20k, 0, 0, 0, 0, 1, 0, 0]\n",
        "  # How to compute one hot encoding of the ith task [0, 0, 0, 0, 1, 0, 0]?? vector zero everywhere but in the ith index\n",
        "  # one_hot = np.zeros(173)\n",
        "  # one_hot[cpt] = 1\n",
        "\n",
        "    # Here we load the arrays if they have been saved already\n",
        "    # if os.path.isfile(join(PROJECT_PATH, 'meta_dataloader/all_X.npy')):\n",
        "    #   all_X = np.load(join(PROJECT_PATH, 'meta_dataloader/all_X.npy'))\n",
        "    #   all_Y = np.load(join(PROJECT_PATH, 'meta_dataloader/all_Y.npy'))\n",
        "    # else:\n",
        "      \n",
        "    #   all_X = []\n",
        "    #   all_Y = []\n",
        "\n",
        "    # cpt = 0\n",
        "      \n",
        "    # for taskid in tasks.task_ids:\n",
        "    #   cpt += 1\n",
        "    #   print(cpt)\n",
        "        \n",
        "    #   task = TCGA.TCGATask(taskid)\n",
        "        # all_X.append(task._samples)\n",
        "        # all_Y.append(task._labels)\n",
        "\n",
        "        \n",
        "\n",
        "      # all_X = np.concatenate(all_X, axis=0)\n",
        "      # all_Y = np.concatenate(all_Y, axis=0)\n",
        "\n",
        "      # np.save(join(PROJECT_PATH, 'meta_dataloader/all_X.npy'), all_X)\n",
        "      # np.save(join(PROJECT_PATH, 'meta_dataloader/all_Y.npy'), all_Y)\n",
        "        \n",
        "    X_train, X_test, y_train, y_test = sklearn.model_selection.train_test_split(all_X, \n",
        "                                                                                all_Y, \n",
        "                                                                                train_size=0.8,\n",
        "                                                                                test_size=0.2)\n",
        "    all_train_set = TensorDataset( Tensor(X_train), Tensor(y_train))\n",
        "    all_test_set = TensorDataset( Tensor(X_test), Tensor(y_test))\n",
        "    \n",
        "    return all_train_set, all_test_set"
      ],
      "execution_count": 0,
      "outputs": []
    },
    {
      "cell_type": "code",
      "metadata": {
        "id": "opIgYt8iWeCu",
        "colab_type": "code",
        "colab": {}
      },
      "source": [
        "all_train_set, all_test_set = load_all_tasks_sets(tasks)"
      ],
      "execution_count": 0,
      "outputs": []
    },
    {
      "cell_type": "code",
      "metadata": {
        "id": "Q1RRO4jGoyby",
        "colab_type": "code",
        "outputId": "28994f32-0ec6-4457-c63c-89349bb3d517",
        "colab": {
          "base_uri": "https://localhost:8080/",
          "height": 51
        }
      },
      "source": [
        "all_X = np.load(join(PROJECT_PATH, 'meta_dataloader/all_X.npy'))\n",
        "all_Y = np.load(join(PROJECT_PATH, 'meta_dataloader/all_Y.npy'))\n",
        "print(len(all_X))\n",
        "print(len(all_Y))"
      ],
      "execution_count": 0,
      "outputs": [
        {
          "output_type": "stream",
          "text": [
            "930\n",
            "930\n"
          ],
          "name": "stdout"
        }
      ]
    },
    {
      "cell_type": "code",
      "metadata": {
        "id": "J7Y8fvL8tBSL",
        "colab_type": "code",
        "outputId": "81adb5ec-2db2-42f3-8550-617cee85b8d0",
        "colab": {
          "base_uri": "https://localhost:8080/",
          "height": 51
        }
      },
      "source": [
        "print(len(all_train_set))\n",
        "print(len(all_test_set))"
      ],
      "execution_count": 0,
      "outputs": [
        {
          "output_type": "stream",
          "text": [
            "744\n",
            "186\n"
          ],
          "name": "stdout"
        }
      ]
    },
    {
      "cell_type": "code",
      "metadata": {
        "id": "gG7SaCzD2iRE",
        "colab_type": "code",
        "outputId": "ec04885d-42cc-4c50-bc35-8d77af6aebf9",
        "colab": {
          "base_uri": "https://localhost:8080/",
          "height": 51
        }
      },
      "source": [
        "all_train_loader = torch.utils.data.DataLoader(all_train_set, batch_size=32,\n",
        "                                         shuffle=True)\n",
        "all_test_loader = torch.utils.data.DataLoader(all_test_set, batch_size=32,\n",
        "                                         shuffle=True)\n",
        "\n",
        "print(len(all_train_loader))\n",
        "print(len(all_test_loader))"
      ],
      "execution_count": 0,
      "outputs": [
        {
          "output_type": "stream",
          "text": [
            "24\n",
            "6\n"
          ],
          "name": "stdout"
        }
      ]
    },
    {
      "cell_type": "code",
      "metadata": {
        "id": "GSc2_sSlV1ly",
        "colab_type": "code",
        "outputId": "b0a18fd2-281a-4b32-a5ee-c8f0eaec55fd",
        "colab": {
          "base_uri": "https://localhost:8080/",
          "height": 224
        }
      },
      "source": [
        "print(tasks[0].__dict__.keys())\n",
        "print(tasks[0]._samples)\n",
        "print(tasks[0]._labels)\n",
        "print(len(tasks[0]._labels))\n",
        "print(len(tasks[0]._samples))"
      ],
      "execution_count": 0,
      "outputs": [
        {
          "output_type": "stream",
          "text": [
            "dict_keys(['id', 'transform', 'target_transform', '_all_sample_ids', 'gene_ids', '_data', '_labels', 'categories', 'num_classes', '_samples', 'input_size'])\n",
            "[[11.4675  3.4911  0.     ... 12.4365  6.3593 10.1622]\n",
            " [11.3709  2.5632  0.4949 ... 11.5841  4.0125 10.5705]\n",
            " [11.3932  2.2108  0.     ... 12.1006  2.6879 10.7528]\n",
            " ...\n",
            " [11.079   5.3147  0.     ... 11.7425  7.1552 10.3814]\n",
            " [11.1064  5.8366  0.     ... 11.7407  6.8453 10.8219]\n",
            " [10.8232  3.4057  0.     ... 12.5494  6.3637  9.9869]]\n",
            "(1, 0, 1, 0, 1, 0, 0, 1, 1, 0, 0, 0, 1, 1, 0, 1, 0, 0, 1, 1, 1, 0, 0, 0, 1, 1, 0, 0, 1, 1, 1, 0, 0, 0, 1, 1, 0, 0, 0, 0, 0, 0, 0, 1, 0, 1, 1, 1, 1, 0, 0, 1, 0, 0, 0, 0, 0, 0, 1, 0, 0, 1, 1, 0, 1, 1, 0, 0, 0, 0, 1, 1, 1, 1, 1, 0, 1, 1, 1, 1, 1, 1, 1, 0, 1, 0, 0, 1, 1, 0, 1, 1, 1, 1, 1, 0, 0, 0, 1, 1, 1, 1, 1, 0, 0, 1, 1, 0, 0, 1, 1, 0, 0, 0, 0, 1, 0, 0, 1, 1, 0, 0, 0, 1, 0, 0, 0, 1, 0, 1, 0, 0, 0, 0, 1, 0, 1, 1, 0, 1, 1, 0, 1, 0, 0, 1, 0, 1, 0, 0, 0, 1, 1, 1, 0, 1, 0, 1, 1, 1, 0, 0, 1, 0, 0, 0, 1, 0, 1, 1, 0, 0, 1, 0, 1, 1, 1, 0, 1, 1, 0, 1, 1, 0, 1, 1, 1, 0, 1, 0, 0, 1, 0, 1, 0, 0, 1, 1, 0, 1, 1, 0, 0, 1, 1, 0, 0, 0, 1, 0, 1, 0, 0, 1, 1, 1, 0, 1, 1, 0, 1, 0, 1, 1, 1, 0, 1, 1, 0, 0, 1, 0, 0, 1, 1, 1, 0, 1, 0, 1, 1, 0, 1, 1, 1, 0, 0, 0, 0, 1, 1, 0, 1, 1, 1, 0, 1, 1, 1, 1, 0, 0, 1, 1, 1, 1, 1, 0, 0, 0, 0, 1, 1, 1, 1, 0, 0, 1, 0, 0, 1, 1, 1, 0, 0, 1, 0, 0, 1, 1, 1, 1, 0, 1, 1, 1, 0, 0, 0, 1, 1, 1, 0, 1, 1, 0, 1, 1, 1, 1, 0, 0, 1, 1, 1, 1, 0, 0, 1, 1, 1, 1, 0, 1, 1, 1)\n",
            "326\n",
            "326\n"
          ],
          "name": "stdout"
        }
      ]
    },
    {
      "cell_type": "markdown",
      "metadata": {
        "id": "NzjIWHK0U0k7",
        "colab_type": "text"
      },
      "source": [
        "## 2.3 All tasks (with conditions) - Define load_all_tasks_conditions_sets"
      ]
    },
    {
      "cell_type": "code",
      "metadata": {
        "id": "J_FNis8LC6av",
        "colab_type": "code",
        "colab": {}
      },
      "source": [
        "import numpy as np\n",
        "\n",
        "all_X = np.load(join(PROJECT_PATH, 'meta_dataloader/all_X.npy'))\n",
        "all_Y = np.load(join(PROJECT_PATH, 'meta_dataloader/all_Y.npy'))\n",
        "all_one_hot = np.load(join(PROJECT_PATH, 'meta_dataloader/all_one_hot.npy'))\n",
        "task_one_hot = np.load(join(PROJECT_PATH, 'meta_dataloader/task_one_hot.npy')) "
      ],
      "execution_count": 0,
      "outputs": []
    },
    {
      "cell_type": "markdown",
      "metadata": {
        "id": "c9WWuO4lYZL5",
        "colab_type": "text"
      },
      "source": [
        "### Define, save, load one_hot array"
      ]
    },
    {
      "cell_type": "code",
      "metadata": {
        "id": "E5lS3IYPYV9g",
        "colab_type": "code",
        "colab": {}
      },
      "source": [
        "# import os.path\n",
        "# import pdb\n",
        "# import numpy as np\n",
        "\n",
        "# def load_all_one_hot(tasks):\n",
        "\n",
        "#   all_one_hot = []\n",
        "#   cpt = 0\n",
        "      \n",
        "#   for taskid in tasks.task_ids:\n",
        "        \n",
        "#     one_hot = np.zeros((1,174))\n",
        "#     one_hot[0, cpt] = 1\n",
        "#     cpt += 1\n",
        "#     print(cpt, one_hot)\n",
        "        \n",
        "#     task = TCGA.TCGATask(taskid)\n",
        "#     all_one_hot.append(one_hot)\n",
        "\n",
        "#   all_one_hot = np.concatenate(all_one_hot, axis=0)\n",
        "\n",
        "#   np.save(join(PROJECT_PATH, 'meta_dataloader/all_one_hot.npy'), all_one_hot)\n",
        "\n",
        "#   return all_one_hot "
      ],
      "execution_count": 0,
      "outputs": []
    },
    {
      "cell_type": "code",
      "metadata": {
        "id": "JDaSxxWTZRS9",
        "colab_type": "code",
        "colab": {}
      },
      "source": [
        "# all_one_hot = load_all_one_hot(tasks)\n",
        "# # all_one_hot = np.load(join(PROJECT_PATH, 'meta_dataloader/all_one_hot.npy'))"
      ],
      "execution_count": 0,
      "outputs": []
    },
    {
      "cell_type": "markdown",
      "metadata": {
        "id": "XZk-a5a5jO2x",
        "colab_type": "text"
      },
      "source": [
        "### Define, save, load task_one_hot"
      ]
    },
    {
      "cell_type": "code",
      "metadata": {
        "id": "hEfiB4jkoI6z",
        "colab_type": "code",
        "colab": {}
      },
      "source": [
        "# import os.path\n",
        "# import pdb\n",
        "# import numpy as np\n",
        "\n",
        "# # Load first the saved all_X, all_Y, all_one_hot\n",
        "# # Return Array of task_one_hot for all the samples\n",
        "\n",
        "# def load_task_one_hot(tasks):\n",
        "#   # When task ID is provided, each sample should be a vector [gene1, gene2, ...., gene20k, 0, 0, 0, 0, 1, 0, 0]\n",
        "#   # How to compute one hot encoding of the ith task [0, 0, 0, 0, 1, 0, 0]?? vector zero everywhere but in the ith index\n",
        "#   # all_X = np.load(join(PROJECT_PATH, 'meta_dataloader/all_X.npy'))\n",
        "#   # all_Y = np.load(join(PROJECT_PATH, 'meta_dataloader/all_Y.npy'))\n",
        "#   # all_one_hot = np.load(join(PROJECT_PATH, 'meta_dataloader/all_one_hot.npy'))    \n",
        "  \n",
        "#   task_one_hot = []\n",
        "#   cpt = 0\n",
        "  \n",
        "#   for taskid in tasks.task_ids:\n",
        "#     task = TCGA.TCGATask(taskid)\n",
        "#     cpt += 1\n",
        "  \n",
        "#     for j in range(0, len(task._samples)):\n",
        "#       task_one_hot.append(all_one_hot[cpt-1])\n",
        "\n",
        "#   np.save(join(PROJECT_PATH, 'meta_dataloader/task_one_hot.npy'), task_one_hot)\n",
        "\n",
        "#   return task_one_hot"
      ],
      "execution_count": 0,
      "outputs": []
    },
    {
      "cell_type": "code",
      "metadata": {
        "id": "R4FXz7gJpKKS",
        "colab_type": "code",
        "colab": {}
      },
      "source": [
        "# task_one_hot = load_task_one_hot(tasks)"
      ],
      "execution_count": 0,
      "outputs": []
    },
    {
      "cell_type": "code",
      "metadata": {
        "id": "BxI3HEuQxpeI",
        "colab_type": "code",
        "colab": {}
      },
      "source": [
        "# print(len(task_one_hot))\n",
        "# print(len(all_X))"
      ],
      "execution_count": 0,
      "outputs": []
    },
    {
      "cell_type": "markdown",
      "metadata": {
        "id": "4kGwp1Kr62TS",
        "colab_type": "text"
      },
      "source": [
        "### Define load_all_tasks_conditions_sets"
      ]
    },
    {
      "cell_type": "code",
      "metadata": {
        "colab_type": "code",
        "id": "cmbVJCgVVLv2",
        "colab": {}
      },
      "source": [
        "import os.path\n",
        "import pdb\n",
        "import numpy as np\n",
        "\n",
        "# Load all_X, all_Y, all_one_hot, task_one_hot\n",
        "\n",
        "def load_all_tasks_conditions_sets(tasks, valid = False, one_hot = False):\n",
        "\n",
        "  # all_X = np.load(join(PROJECT_PATH, 'meta_dataloader/all_X.npy'))\n",
        "  # all_Y = np.load(join(PROJECT_PATH, 'meta_dataloader/all_Y.npy'))\n",
        "  # all_one_hot = np.load(join(PROJECT_PATH, 'meta_dataloader/all_one_hot.npy'))    \n",
        "  # task_one_hot = np.load(join(PROJECT_PATH, 'meta_dataloader/task_one_hot.npy'))\n",
        "\n",
        "  all_X_task = []\n",
        "  \n",
        "  for i in range(0, len(all_X)):\n",
        "    X_task = np.append(all_X[i], task_one_hot[i], axis=0)\n",
        "    all_X_task.append(X_task)\n",
        "\n",
        "  if ((valid == True) and (one_hot == True)):\n",
        "      X_train_conditions, X_test_conditions, y_train_conditions, y_test_conditions = sklearn.model_selection.train_test_split(all_X_task, \n",
        "                                                                                      all_Y, \n",
        "                                                                                      random_state=1,\n",
        "                                                                                      test_size=0.2)\n",
        "      X_train_conditions, X_valid_conditions, y_train_conditions, y_valid_conditions = sklearn.model_selection.train_test_split(X_train_conditions, \n",
        "                                                                                        y_train_conditions, \n",
        "                                                                                        random_state=1,\n",
        "                                                                                        test_size=0.25) # 0.25 x 0.8 = 0.2 for valid_set\n",
        "\n",
        "      all_train_conditions_set = TensorDataset( Tensor(X_train_conditions), Tensor(y_train_conditions))\n",
        "      all_valid_conditions_set = TensorDataset( Tensor(X_valid_conditions), Tensor(y_valid_conditions))\n",
        "      all_test_conditions_set = TensorDataset( Tensor(X_test_conditions), Tensor(y_test_conditions))\n",
        "      \n",
        "      return all_train_conditions_set, all_valid_conditions_set, all_test_conditions_set\n",
        "    \n",
        "  elif ((valid == True) and (one_hot == False)): \n",
        "      X_train, X_test, y_train, y_test = sklearn.model_selection.train_test_split(all_X, \n",
        "                                                                              all_Y, \n",
        "                                                                              random_state=1,\n",
        "                                                                              test_size=0.2)\n",
        "      X_train, X_valid, y_train, y_valid = sklearn.model_selection.train_test_split(X_train, \n",
        "                                                                              y_train, \n",
        "                                                                              random_state=1,\n",
        "                                                                              test_size=0.25) # 0.25 x 0.8 = 0.2 for valid_set\n",
        "      all_train_set = TensorDataset( Tensor(X_train), Tensor(y_train))\n",
        "      all_valid_set = TensorDataset( Tensor(X_valid), Tensor(y_valid))\n",
        "      all_test_set = TensorDataset( Tensor(X_test), Tensor(y_test))\n",
        "\n",
        "      return all_train_set, all_valid_set, all_test_set\n",
        "\n",
        "\n",
        "  X_train, X_test, y_train, y_test = sklearn.model_selection.train_test_split(all_X_task, \n",
        "                                                                              all_Y, \n",
        "                                                                              train_size=0.8,\n",
        "                                                                              test_size=0.2)\n",
        "  all_train_conditions_set = TensorDataset( Tensor(X_train), Tensor(y_train))\n",
        "  all_test_conditions_set = TensorDataset( Tensor(X_test), Tensor(y_test))\n",
        "\n",
        "  X_train, X_test, y_train, y_test = sklearn.model_selection.train_test_split(all_X, \n",
        "                                                                              all_Y, \n",
        "                                                                              train_size=0.8,\n",
        "                                                                              test_size=0.2)\n",
        "  all_train_set = TensorDataset( Tensor(X_train), Tensor(y_train))\n",
        "  all_test_set = TensorDataset( Tensor(X_test), Tensor(y_test))\n",
        "    \n",
        "  return all_train_conditions_set, all_test_conditions_set, all_train_set, all_test_set"
      ],
      "execution_count": 0,
      "outputs": []
    },
    {
      "cell_type": "markdown",
      "metadata": {
        "id": "w0jejwElFu37",
        "colab_type": "text"
      },
      "source": [
        "### Split Train, Valid, Test sets"
      ]
    },
    {
      "cell_type": "code",
      "metadata": {
        "id": "IexW-HbxsemU",
        "colab_type": "code",
        "colab": {}
      },
      "source": [
        "all_train_conditions_set, all_valid_conditions_set, all_test_conditions_set = load_all_tasks_conditions_sets(tasks, valid=True, one_hot=True)"
      ],
      "execution_count": 0,
      "outputs": []
    },
    {
      "cell_type": "code",
      "metadata": {
        "id": "t6q9u3keF5Bg",
        "colab_type": "code",
        "outputId": "80855ec9-2e0a-4da3-ab72-8ea2043c5503",
        "colab": {
          "base_uri": "https://localhost:8080/",
          "height": 123
        }
      },
      "source": [
        "print(len(all_train_conditions_set))\n",
        "print(len(all_valid_conditions_set))\n",
        "print(len(all_test_conditions_set))\n",
        "print(all_train_conditions_set[0])\n",
        "print(all_valid_conditions_set[0])\n",
        "print(all_test_conditions_set[0])"
      ],
      "execution_count": 0,
      "outputs": [
        {
          "output_type": "stream",
          "text": [
            "31063\n",
            "10355\n",
            "10355\n",
            "(tensor([10.1866,  0.8395,  0.8395,  ...,  0.0000,  0.0000,  0.0000]), tensor(1.))\n",
            "(tensor([9.1070, 4.1632, 4.3483,  ..., 0.0000, 0.0000, 0.0000]), tensor(0.))\n",
            "(tensor([11.4741,  1.2091,  2.0219,  ...,  0.0000,  0.0000,  0.0000]), tensor(2.))\n"
          ],
          "name": "stdout"
        }
      ]
    },
    {
      "cell_type": "code",
      "metadata": {
        "id": "zPccGAJ4GOAb",
        "colab_type": "code",
        "outputId": "26d34aa3-4e83-4e96-ba68-c04fc972ea3e",
        "colab": {
          "base_uri": "https://localhost:8080/",
          "height": 70
        }
      },
      "source": [
        "all_train_conditions_loader = torch.utils.data.DataLoader(all_train_conditions_set, batch_size=32,\n",
        "                                         shuffle=True)\n",
        "all_valid_conditions_loader = torch.utils.data.DataLoader(all_valid_conditions_set, batch_size=32,\n",
        "                                         shuffle=True)\n",
        "all_test_conditions_loader = torch.utils.data.DataLoader(all_test_conditions_set, batch_size=32,\n",
        "                                         shuffle=True)\n",
        "\n",
        "print(len(all_train_conditions_loader))\n",
        "print(len(all_valid_conditions_loader))\n",
        "print(len(all_test_conditions_loader))"
      ],
      "execution_count": 0,
      "outputs": [
        {
          "output_type": "stream",
          "text": [
            "971\n",
            "324\n",
            "324\n"
          ],
          "name": "stdout"
        }
      ]
    },
    {
      "cell_type": "code",
      "metadata": {
        "id": "IbWHtpVO4gAm",
        "colab_type": "code",
        "colab": {}
      },
      "source": [
        "all_train_set, all_valid_set, all_test_set = load_all_tasks_conditions_sets(tasks, valid=True, one_hot=False)"
      ],
      "execution_count": 0,
      "outputs": []
    },
    {
      "cell_type": "code",
      "metadata": {
        "id": "0jIV3D4j4yPc",
        "colab_type": "code",
        "colab": {}
      },
      "source": [
        "print(len(all_train_set))\n",
        "print(len(all_valid_set))\n",
        "print(len(all_test_set))\n",
        "print(all_train_set[0])\n",
        "print(all_valid_set[0])\n",
        "print(all_test_set[0])"
      ],
      "execution_count": 0,
      "outputs": []
    },
    {
      "cell_type": "code",
      "metadata": {
        "id": "81-hqNdS41ZZ",
        "colab_type": "code",
        "colab": {}
      },
      "source": [
        "all_train_loader = torch.utils.data.DataLoader(all_train_set, batch_size=32,\n",
        "                                         shuffle=True)\n",
        "all_valid_loader = torch.utils.data.DataLoader(all_valid_set, batch_size=32,\n",
        "                                         shuffle=True)\n",
        "all_test_loader = torch.utils.data.DataLoader(all_test_set, batch_size=32,\n",
        "                                         shuffle=True)\n",
        "print(len(all_train_conditions_loader))\n",
        "print(len(all_valid_conditions_loader))\n",
        "print(len(all_test_conditions_loader))"
      ],
      "execution_count": 0,
      "outputs": []
    },
    {
      "cell_type": "markdown",
      "metadata": {
        "id": "dVS2_dmTiTc8",
        "colab_type": "text"
      },
      "source": [
        "# Step 3: Define the model"
      ]
    },
    {
      "cell_type": "code",
      "metadata": {
        "id": "kZiCvx3VOrqs",
        "colab_type": "code",
        "colab": {}
      },
      "source": [
        "from torch.nn.utils import spectral_norm\n",
        "import torch\n",
        "import torch.nn as nn\n",
        "\n",
        "\n",
        "class Dummy(torch.nn.Module):\n",
        "    \"\"\"\n",
        "    Helper class that allows you to do nothing. Replaces `lambda x: x`.\n",
        "    \"\"\"\n",
        "\n",
        "    def forward(self, x):\n",
        "        return x\n",
        "\n",
        "\n",
        "class LinearBatch(nn.Module):\n",
        "    \"\"\"A linear layer with batch normalization.\"\"\"\n",
        "    def __init__(self, input_dim, output_dim, bias=True):\n",
        "        super(LinearBatch, self).__init__()\n",
        "        self.linear = nn.Linear(input_dim, output_dim, bias=bias)\n",
        "        self.batch_norm = nn.BatchNorm1d(output_dim)\n",
        "\n",
        "    def forward(self, x):\n",
        "        out = self.linear(x)\n",
        "        return self.batch_norm(out)\n",
        "\n",
        "\n",
        "class LinearSpec(nn.Module):\n",
        "    \"\"\"A linear layer with spectral normalization.\"\"\"\n",
        "    def __init__(self, input_dim, output_dim, bias=True):\n",
        "        super(LinearSpec, self).__init__()\n",
        "        self.linear = spectral_norm(nn.Linear(input_dim, output_dim, bias=bias))\n",
        "\n",
        "    def forward(self, x):\n",
        "        return self.linear(x)\n",
        "\n",
        "\n",
        "class LinearLayers(nn.Module):\n",
        "    \"\"\"\n",
        "    A basic feed forward network with configurable dropout and layer-wise\n",
        "    normalization.\n",
        "    \"\"\"\n",
        "    def __init__(self, layers, dropout=0, norm='none', modulelist=False,\n",
        "                 bias=True, activate_final=True):\n",
        "        super(LinearLayers, self).__init__()\n",
        "\n",
        "        norm_dict = {\n",
        "            'batch': LinearBatch, 'spectral': LinearSpec, 'none': nn.Linear}\n",
        "\n",
        "        assert 0 <= dropout < 1\n",
        "        assert norm in norm_dict.keys()\n",
        "\n",
        "        # Set up the linear layers.\n",
        "        self.linear = norm_dict[norm]\n",
        "        self.dropout = nn.Dropout(dropout)\n",
        "        self.activation = nn.ReLU()\n",
        "\n",
        "        arch = []\n",
        "        n_layers = len(layers)\n",
        "        for i in range(n_layers-1):\n",
        "            arch.append(self.linear(layers[i], layers[i+1], bias=bias))\n",
        "\n",
        "            # Add activation to all layers, except the final one optionally.\n",
        "            if activate_final or i+1 < n_layers-1:\n",
        "                arch.append(self.activation)\n",
        "\n",
        "                # Only dropout the activated layers.\n",
        "                if dropout > 0:\n",
        "                    arch.append(self.dropout)\n",
        "\n",
        "        # Allows for the linear layer to be a passthrough in the case that\n",
        "        # the number of layers requested is empty or a single value.\n",
        "        if len(arch) > 0:\n",
        "            if modulelist:\n",
        "                self.model = nn.ModuleList(arch)\n",
        "            else:\n",
        "                self.model = nn.Sequential(*arch)\n",
        "        else:\n",
        "            self.model = Dummy()\n",
        "\n",
        "    def embed(self, X):\n",
        "        return self.model(X)\n",
        "\n",
        "    def forward(self, X):\n",
        "        return self.embed(X)\n",
        "\n",
        "\n",
        "class AutoEncoder(nn.Module):\n",
        "    \"\"\"\n",
        "    A basic feed forward classifier architecture with configurable dropout and\n",
        "    layer-wise normalization.\n",
        "    \"\"\"\n",
        "    def __init__(self, layers, dropout=0, norm='none'):\n",
        "        \"\"\"\n",
        "        An MLP vanilla antoencoder.\n",
        "        \"\"\"\n",
        "        super(AutoEncoder, self).__init__()\n",
        "\n",
        "        # assert num_classes >= 1\n",
        "        self.encoder = LinearLayers(layers=layers, dropout=dropout, norm=norm)\n",
        "        self.decoder = LinearLayers(layers=layers[::-1], dropout=dropout,\n",
        "                                    norm=norm, activate_final=False)\n",
        "        self.criterion = torch.nn.MSELoss(reduction='sum')\n",
        "\n",
        "    def embed(self, x):\n",
        "        return self.encoder(x)\n",
        "\n",
        "    def forward(self, x, fingerprint=0, compound=0, line=0):\n",
        "        z = self.encoder(x)\n",
        "        X_prime = self.decoder(z)\n",
        "        return {'z': z, 'x_prime': X_prime, 'x': x}\n",
        "\n",
        "    def loss(self, outputs):\n",
        "        recon_loss = self.criterion(outputs['x_prime'], outputs['x'])\n",
        "        return {'recon_loss': recon_loss}\n",
        "\n",
        "\n",
        "class VariationalAutoEncoder(nn.Module):\n",
        "    \"\"\"\n",
        "    A basic feed forward classifier architecture with configurable dropout and\n",
        "    layer-wise normalization with ~*~ variational inference ~*~.\n",
        "    \"\"\"\n",
        "    def __init__(self, layers, beta=0.5, dropout=0, norm='none'):\n",
        "        \"\"\"\n",
        "        An MLP variational antoencoder.\n",
        "        \"\"\"\n",
        "        super(VariationalAutoEncoder, self).__init__()\n",
        "\n",
        "        self.encoder = LinearLayers(layers=layers[:-1], dropout=dropout, norm=norm)\n",
        "        self.mu = LinearLayers(layers=[layers[-2], layers[-1]], activate_final=False)\n",
        "        self.logvar = LinearLayers(layers=[layers[-2], layers[-1]], activate_final=False)\n",
        "        self.decoder = LinearLayers(layers=layers[::-1], dropout=dropout,\n",
        "                                    norm=norm, activate_final=False)\n",
        "        self.criterion = torch.nn.MSELoss(reduction='sum')\n",
        "        self.beta = beta\n",
        "\n",
        "    def embed(self, X):\n",
        "        h = self.encoder(X)\n",
        "        mu = self.mu(h)\n",
        "        logvar = self.logvar(h)\n",
        "\n",
        "        return mu, logvar\n",
        "\n",
        "    def reparameterize(self, mu, logvar):\n",
        "        std = torch.exp(0.5 * logvar)\n",
        "        eps = torch.rand_like(std)\n",
        "        z = mu + (std * eps)\n",
        "\n",
        "        return z\n",
        "\n",
        "    def decode(self, z):\n",
        "        x_prime = self.decoder(z)\n",
        "\n",
        "        return x_prime\n",
        "\n",
        "    def forward(self, x, fingerprint=0, compound=0, line=0):\n",
        "        mu, logvar = self.embed(x)\n",
        "        z = self.reparameterize(mu, logvar)\n",
        "        x_prime = self.decoder(z)\n",
        "        return {'z': z, 'x_prime': x_prime, 'x': x, 'mu': mu, 'logvar': logvar}\n",
        "\n",
        "    def loss(self, outputs):\n",
        "        recon_loss = self.criterion(outputs['x_prime'], outputs['x'])\n",
        "        kl_div = -0.5 * torch.sum(1 + outputs['logvar'] - outputs['mu'].pow(2) - outputs['logvar'].exp())\n",
        "\n",
        "        # Apply beta scaling factor\n",
        "        kl_div *= self.beta\n",
        "\n",
        "        return {'recon_loss': recon_loss, 'kl_div': kl_div}\n"
      ],
      "execution_count": 0,
      "outputs": []
    },
    {
      "cell_type": "markdown",
      "metadata": {
        "id": "yVa5p_jBT9jS",
        "colab_type": "text"
      },
      "source": [
        "## 3.1 Auto Encoder"
      ]
    },
    {
      "cell_type": "code",
      "metadata": {
        "id": "_RRNUPIV5LHa",
        "colab_type": "code",
        "colab": {}
      },
      "source": [
        "modelAE = AutoEncoder(layers=[20704, 256, 64], dropout=0, norm='none')"
      ],
      "execution_count": 0,
      "outputs": []
    },
    {
      "cell_type": "code",
      "metadata": {
        "id": "7eBEJi2_5Ma7",
        "colab_type": "code",
        "outputId": "3402dc39-fae1-4d53-8780-76751344c1fc",
        "colab": {
          "base_uri": "https://localhost:8080/",
          "height": 407
        }
      },
      "source": [
        "modelAE"
      ],
      "execution_count": 0,
      "outputs": [
        {
          "output_type": "execute_result",
          "data": {
            "text/plain": [
              "AutoEncoder(\n",
              "  (encoder): LinearLayers(\n",
              "    (dropout): Dropout(p=0, inplace=False)\n",
              "    (activation): ReLU()\n",
              "    (model): Sequential(\n",
              "      (0): Linear(in_features=20704, out_features=256, bias=True)\n",
              "      (1): ReLU()\n",
              "      (2): Linear(in_features=256, out_features=64, bias=True)\n",
              "      (3): ReLU()\n",
              "    )\n",
              "  )\n",
              "  (decoder): LinearLayers(\n",
              "    (dropout): Dropout(p=0, inplace=False)\n",
              "    (activation): ReLU()\n",
              "    (model): Sequential(\n",
              "      (0): Linear(in_features=64, out_features=256, bias=True)\n",
              "      (1): ReLU()\n",
              "      (2): Linear(in_features=256, out_features=20704, bias=True)\n",
              "    )\n",
              "  )\n",
              "  (criterion): MSELoss()\n",
              ")"
            ]
          },
          "metadata": {
            "tags": []
          },
          "execution_count": 18
        }
      ]
    },
    {
      "cell_type": "markdown",
      "metadata": {
        "id": "rDO-zYU1PTgb",
        "colab_type": "text"
      },
      "source": [
        "## 3.2 Variational Auto Encoder (VAE)"
      ]
    },
    {
      "cell_type": "code",
      "metadata": {
        "id": "mQPkXjFNC294",
        "colab_type": "code",
        "colab": {}
      },
      "source": [
        "modelVAE=VariationalAutoEncoder(layers=[20704, 256, 64], dropout=0, norm='none')"
      ],
      "execution_count": 0,
      "outputs": []
    },
    {
      "cell_type": "code",
      "metadata": {
        "id": "XZwDKbKSPFEE",
        "colab_type": "code",
        "outputId": "54a75143-0e6d-4fa2-ad4b-a4131aa09443",
        "colab": {
          "base_uri": "https://localhost:8080/",
          "height": 621
        }
      },
      "source": [
        "modelVAE"
      ],
      "execution_count": 0,
      "outputs": [
        {
          "output_type": "execute_result",
          "data": {
            "text/plain": [
              "VariationalAutoEncoder(\n",
              "  (encoder): LinearLayers(\n",
              "    (dropout): Dropout(p=0, inplace=False)\n",
              "    (activation): ReLU()\n",
              "    (model): Sequential(\n",
              "      (0): Linear(in_features=20704, out_features=256, bias=True)\n",
              "      (1): ReLU()\n",
              "    )\n",
              "  )\n",
              "  (mu): LinearLayers(\n",
              "    (dropout): Dropout(p=0, inplace=False)\n",
              "    (activation): ReLU()\n",
              "    (model): Sequential(\n",
              "      (0): Linear(in_features=256, out_features=64, bias=True)\n",
              "    )\n",
              "  )\n",
              "  (logvar): LinearLayers(\n",
              "    (dropout): Dropout(p=0, inplace=False)\n",
              "    (activation): ReLU()\n",
              "    (model): Sequential(\n",
              "      (0): Linear(in_features=256, out_features=64, bias=True)\n",
              "    )\n",
              "  )\n",
              "  (decoder): LinearLayers(\n",
              "    (dropout): Dropout(p=0, inplace=False)\n",
              "    (activation): ReLU()\n",
              "    (model): Sequential(\n",
              "      (0): Linear(in_features=64, out_features=256, bias=True)\n",
              "      (1): ReLU()\n",
              "      (2): Linear(in_features=256, out_features=20704, bias=True)\n",
              "    )\n",
              "  )\n",
              "  (criterion): MSELoss()\n",
              ")"
            ]
          },
          "metadata": {
            "tags": []
          },
          "execution_count": 20
        }
      ]
    },
    {
      "cell_type": "markdown",
      "metadata": {
        "id": "3YoMAIgQZBHf",
        "colab_type": "text"
      },
      "source": [
        "## 3.4 Conditional VAE (CVAE)"
      ]
    },
    {
      "cell_type": "code",
      "metadata": {
        "id": "KZVZoLWDfUzb",
        "colab_type": "code",
        "colab": {}
      },
      "source": [
        "modelCVAE=VariationalAutoEncoder(layers=[20704, 256, 64], beta=0.5, dropout=0, norm='none')"
      ],
      "execution_count": 0,
      "outputs": []
    },
    {
      "cell_type": "code",
      "metadata": {
        "id": "hc9f6xrEe3cq",
        "colab_type": "code",
        "outputId": "4f26052d-f8d3-4fd9-f225-a35f239f619a",
        "colab": {
          "base_uri": "https://localhost:8080/",
          "height": 621
        }
      },
      "source": [
        "modelCVAE"
      ],
      "execution_count": 0,
      "outputs": [
        {
          "output_type": "execute_result",
          "data": {
            "text/plain": [
              "VariationalAutoEncoder(\n",
              "  (encoder): LinearLayers(\n",
              "    (dropout): Dropout(p=0, inplace=False)\n",
              "    (activation): ReLU()\n",
              "    (model): Sequential(\n",
              "      (0): Linear(in_features=20704, out_features=256, bias=True)\n",
              "      (1): ReLU()\n",
              "    )\n",
              "  )\n",
              "  (mu): LinearLayers(\n",
              "    (dropout): Dropout(p=0, inplace=False)\n",
              "    (activation): ReLU()\n",
              "    (model): Sequential(\n",
              "      (0): Linear(in_features=256, out_features=64, bias=True)\n",
              "    )\n",
              "  )\n",
              "  (logvar): LinearLayers(\n",
              "    (dropout): Dropout(p=0, inplace=False)\n",
              "    (activation): ReLU()\n",
              "    (model): Sequential(\n",
              "      (0): Linear(in_features=256, out_features=64, bias=True)\n",
              "    )\n",
              "  )\n",
              "  (decoder): LinearLayers(\n",
              "    (dropout): Dropout(p=0, inplace=False)\n",
              "    (activation): ReLU()\n",
              "    (model): Sequential(\n",
              "      (0): Linear(in_features=64, out_features=256, bias=True)\n",
              "      (1): ReLU()\n",
              "      (2): Linear(in_features=256, out_features=20704, bias=True)\n",
              "    )\n",
              "  )\n",
              "  (criterion): MSELoss()\n",
              ")"
            ]
          },
          "metadata": {
            "tags": []
          },
          "execution_count": 60
        }
      ]
    },
    {
      "cell_type": "markdown",
      "metadata": {
        "id": "42c0XDQBkioB",
        "colab_type": "text"
      },
      "source": [
        "# Step 4 - Define loss function and optimizer"
      ]
    },
    {
      "cell_type": "markdown",
      "metadata": {
        "id": "ppWbjdA_Pvul",
        "colab_type": "text"
      },
      "source": [
        "## 4.1 Define Optimizer (lr) for model AE (Autoencoder)"
      ]
    },
    {
      "cell_type": "code",
      "metadata": {
        "id": "Magd_i-Q7sSl",
        "colab_type": "code",
        "colab": {}
      },
      "source": [
        "\"\"\"\n",
        "We will use the cross entropy loss and Adam optimizer\n",
        "\"\"\"\n",
        "import torch.optim as optim\n",
        "\n",
        "# # Define the cost function\n",
        "# criterion = nn.CrossEntropyLoss()\n",
        "# I am not sure whether to keep it or not since I am adding a VAE_loss below !\n",
        "\n",
        "# Define the optimizer, learning rate \n",
        "optimizer_AE = optim.Adam(modelAE.parameters(), lr=0.0001)"
      ],
      "execution_count": 0,
      "outputs": []
    },
    {
      "cell_type": "markdown",
      "metadata": {
        "id": "DHkjUkQ7Pn8x",
        "colab_type": "text"
      },
      "source": [
        "## 4.2 Define optimizer (lr) for model VAE"
      ]
    },
    {
      "cell_type": "code",
      "metadata": {
        "id": "5TuzkOCUPuEQ",
        "colab_type": "code",
        "colab": {}
      },
      "source": [
        "\"\"\"\n",
        "We will use the cross entropy loss and Adam optimizer\n",
        "\"\"\"\n",
        "import torch.optim as optim\n",
        "\n",
        "# Define the optimizer, learning rate \n",
        "optimizer_VAE = optim.Adam(modelVAE.parameters(), lr=0.0001)\n",
        "\n"
      ],
      "execution_count": 0,
      "outputs": []
    },
    {
      "cell_type": "markdown",
      "metadata": {
        "id": "mBH1QggrfC5M",
        "colab_type": "text"
      },
      "source": [
        "## 4.3 Define optimizer (lr) for model cVAE"
      ]
    },
    {
      "cell_type": "code",
      "metadata": {
        "id": "whx5mARefIKX",
        "colab_type": "code",
        "colab": {}
      },
      "source": [
        "\"\"\"\n",
        "We will use the cross entropy loss and Adam optimizer\n",
        "\"\"\"\n",
        "import torch.optim as optim\n",
        "\n",
        "# Define the optimizer, learning rate \n",
        "optimizer_CVAE = optim.Adam(modelCVAE.parameters(), lr=0.0001)"
      ],
      "execution_count": 0,
      "outputs": []
    },
    {
      "cell_type": "markdown",
      "metadata": {
        "id": "4RO1oLnUl3sN",
        "colab_type": "text"
      },
      "source": [
        "# Step 5 - Train the network on the training data"
      ]
    },
    {
      "cell_type": "markdown",
      "metadata": {
        "id": "RJb2pJ62AK5Q",
        "colab_type": "text"
      },
      "source": [
        "## 5.1 Auto Encoder - All Tasks Training"
      ]
    },
    {
      "cell_type": "code",
      "metadata": {
        "id": "V_7oiOck56AH",
        "colab_type": "code",
        "colab": {}
      },
      "source": [
        "import pdb\n",
        "from torch.autograd import Variable\n",
        "import torch.optim as optim\n",
        "\n",
        "num_epochs = 20\n",
        "all_losses_AE=[]\n",
        "\n",
        "for epoch in range(num_epochs): \n",
        "      for i, (inputs, labels) in enumerate(all_train_conditions_loader, 0):\n",
        "\n",
        "        # pdb.set_trace()\n",
        "        # forward propogation\n",
        "        outputs = modelAE(inputs)\n",
        "        \n",
        "        # calculate the loss\n",
        "        losses = modelAE.loss(outputs)\n",
        "        loss = losses['recon_loss']\n",
        "        # pdb.set_trace()\n",
        "        all_losses_AE.append(loss.detach().numpy())\n",
        "\n",
        "        # backpropogation + update parameters\n",
        "        optimizer_AE.zero_grad()\n",
        "        loss.backward()\n",
        "        optimizer_AE.step()\n",
        "\n",
        "        # print statistics\n",
        "        cost = loss.item()\n",
        "        if i % 100 == 0:    # print every 100 iterations\n",
        "            print('Epoch:' + str(epoch) + \", Iteration: \" + str(i) \n",
        "                  + \", training cost = \" + str(cost))"
      ],
      "execution_count": 0,
      "outputs": []
    },
    {
      "cell_type": "code",
      "metadata": {
        "id": "tJ6ohxcSJVwF",
        "colab_type": "code",
        "outputId": "7da3f361-ae62-4c68-d4e8-8fb54eedf9df",
        "colab": {
          "base_uri": "https://localhost:8080/",
          "height": 52
        }
      },
      "source": [
        "# print last losses value for train_AE\n",
        "print(len(all_losses_AE))\n",
        "print(all_losses_AE[19419])"
      ],
      "execution_count": 0,
      "outputs": [
        {
          "output_type": "stream",
          "text": [
            "19420\n",
            "365712.94\n"
          ],
          "name": "stdout"
        }
      ]
    },
    {
      "cell_type": "code",
      "metadata": {
        "id": "8hRwVbO00FjE",
        "colab_type": "code",
        "outputId": "9dc5bceb-3cc5-4500-dac6-f44804b4ea5e",
        "colab": {
          "base_uri": "https://localhost:8080/",
          "height": 194
        }
      },
      "source": [
        "# Auto Encoder valid_size=0.2 beta=0.5 lr=0.0001\n",
        "import pdb\n",
        "from torch.autograd import Variable\n",
        "import torch.optim as optim\n",
        "\n",
        "num_epochs = 10\n",
        "all_losses_valid_AE=[]\n",
        "\n",
        "for epoch in range(num_epochs): \n",
        "      for i, (inputs, labels) in enumerate(all_valid_conditions_loader, 0):\n",
        "\n",
        "        outputs = modelAE(inputs)\n",
        "        \n",
        "        # calculate the loss\n",
        "        losses = modelAE.loss(outputs)\n",
        "        loss = losses['recon_loss']\n",
        "        # pdb.set_trace()\n",
        "        all_losses_valid_AE.append(loss.detach().numpy())\n",
        "\n",
        "        # backpropogation + update parameters\n",
        "        optimizer_AE.zero_grad()\n",
        "        loss.backward()        \n",
        "        optimizer_AE.step()\n",
        "\n",
        "        # print statistics\n",
        "        cost = loss.item()\n",
        "        if i % 500 == 0:    # print every 500 iterations\n",
        "            print('Epoch:' + str(epoch) + \", Iteration: \" + str(i) \n",
        "                  + \", valid cost = \" + str(cost))"
      ],
      "execution_count": 0,
      "outputs": [
        {
          "output_type": "stream",
          "text": [
            "Epoch:0, Iteration: 0, valid cost = 549243.0\n",
            "Epoch:1, Iteration: 0, valid cost = 487819.875\n",
            "Epoch:2, Iteration: 0, valid cost = 573700.0\n",
            "Epoch:3, Iteration: 0, valid cost = 507153.96875\n",
            "Epoch:4, Iteration: 0, valid cost = 494301.0625\n",
            "Epoch:5, Iteration: 0, valid cost = 471096.375\n",
            "Epoch:6, Iteration: 0, valid cost = 501047.3125\n",
            "Epoch:7, Iteration: 0, valid cost = 597913.8125\n",
            "Epoch:8, Iteration: 0, valid cost = 510628.625\n",
            "Epoch:9, Iteration: 0, valid cost = 506760.875\n"
          ],
          "name": "stdout"
        }
      ]
    },
    {
      "cell_type": "code",
      "metadata": {
        "id": "ca7t410TQWRZ",
        "colab_type": "code",
        "outputId": "551911cb-12b0-480a-a705-47916621c433",
        "colab": {
          "base_uri": "https://localhost:8080/",
          "height": 52
        }
      },
      "source": [
        "print(len(all_losses_valid_AE))\n",
        "print(all_losses_valid_AE[3239])"
      ],
      "execution_count": 0,
      "outputs": [
        {
          "output_type": "stream",
          "text": [
            "3240\n",
            "290273.2\n"
          ],
          "name": "stdout"
        }
      ]
    },
    {
      "cell_type": "markdown",
      "metadata": {
        "id": "QNXtTO5-QD2D",
        "colab_type": "text"
      },
      "source": [
        "## 5.2 VAE - All Tasks Training"
      ]
    },
    {
      "cell_type": "code",
      "metadata": {
        "id": "_tP_LyohQJq-",
        "colab_type": "code",
        "outputId": "87e9feaa-b0b8-4107-bb01-470cf53b8029",
        "colab": {
          "base_uri": "https://localhost:8080/",
          "height": 727
        }
      },
      "source": [
        "import pdb\n",
        "from torch.autograd import Variable\n",
        "import torch.optim as optim\n",
        "\n",
        "num_epochs = 20\n",
        "all_losses_VAE=[]\n",
        "\n",
        "for epoch in range(num_epochs): \n",
        "      for i, (inputs, labels) in enumerate(all_train_conditions_loader, 0):\n",
        "\n",
        "        # pdb.set_trace()\n",
        "        # forward propogation\n",
        "        outputs = modelVAE(inputs)\n",
        "        \n",
        "        # calculate the loss\n",
        "        losses = modelVAE.loss(outputs)\n",
        "        loss = losses['recon_loss'] + losses['kl_div']\n",
        "        # pdb.set_trace()\n",
        "        all_losses_VAE.append(loss.detach().numpy())\n",
        "\n",
        "        # backpropogation + update parameters\n",
        "        optimizer_VAE.zero_grad()\n",
        "        loss.backward()        \n",
        "        optimizer_VAE.step()\n",
        "\n",
        "        # print statistics\n",
        "        cost = loss.item()\n",
        "        if i % 500 == 0:    # print every 500 iterations\n",
        "            print('Epoch:' + str(epoch) + \", Iteration: \" + str(i) \n",
        "                  + \", training cost = \" + str(cost))"
      ],
      "execution_count": 0,
      "outputs": [
        {
          "output_type": "stream",
          "text": [
            "Epoch:0, Iteration: 0, training cost = 37846136.0\n",
            "Epoch:0, Iteration: 500, training cost = 1597798.0\n",
            "Epoch:1, Iteration: 0, training cost = 1302309.5\n",
            "Epoch:1, Iteration: 500, training cost = 1085213.75\n",
            "Epoch:2, Iteration: 0, training cost = 1158631.0\n",
            "Epoch:2, Iteration: 500, training cost = 936789.0\n",
            "Epoch:3, Iteration: 0, training cost = 1109918.5\n",
            "Epoch:3, Iteration: 500, training cost = 970290.25\n",
            "Epoch:4, Iteration: 0, training cost = 797956.5625\n",
            "Epoch:4, Iteration: 500, training cost = 791221.25\n",
            "Epoch:5, Iteration: 0, training cost = 703870.625\n",
            "Epoch:5, Iteration: 500, training cost = 644824.3125\n",
            "Epoch:6, Iteration: 0, training cost = 677657.5625\n",
            "Epoch:6, Iteration: 500, training cost = 661698.8125\n",
            "Epoch:7, Iteration: 0, training cost = 547506.875\n",
            "Epoch:7, Iteration: 500, training cost = 607945.0\n",
            "Epoch:8, Iteration: 0, training cost = 566658.0\n",
            "Epoch:8, Iteration: 500, training cost = 574310.0\n",
            "Epoch:9, Iteration: 0, training cost = 520656.9375\n",
            "Epoch:9, Iteration: 500, training cost = 651531.875\n",
            "Epoch:10, Iteration: 0, training cost = 549344.125\n",
            "Epoch:10, Iteration: 500, training cost = 478567.9375\n",
            "Epoch:11, Iteration: 0, training cost = 508617.5625\n",
            "Epoch:11, Iteration: 500, training cost = 542313.4375\n",
            "Epoch:12, Iteration: 0, training cost = 556242.5625\n",
            "Epoch:12, Iteration: 500, training cost = 535768.4375\n",
            "Epoch:13, Iteration: 0, training cost = 548528.625\n",
            "Epoch:13, Iteration: 500, training cost = 427550.59375\n",
            "Epoch:14, Iteration: 0, training cost = 504228.21875\n",
            "Epoch:14, Iteration: 500, training cost = 542083.375\n",
            "Epoch:15, Iteration: 0, training cost = 486110.59375\n",
            "Epoch:15, Iteration: 500, training cost = 491446.9375\n",
            "Epoch:16, Iteration: 0, training cost = 514650.0\n",
            "Epoch:16, Iteration: 500, training cost = 471190.46875\n",
            "Epoch:17, Iteration: 0, training cost = 527920.75\n",
            "Epoch:17, Iteration: 500, training cost = 468746.6875\n",
            "Epoch:18, Iteration: 0, training cost = 506092.5625\n",
            "Epoch:18, Iteration: 500, training cost = 480183.71875\n",
            "Epoch:19, Iteration: 0, training cost = 475309.75\n",
            "Epoch:19, Iteration: 500, training cost = 535966.5\n"
          ],
          "name": "stdout"
        }
      ]
    },
    {
      "cell_type": "code",
      "metadata": {
        "id": "e9iTFpktPwc9",
        "colab_type": "code",
        "outputId": "8ceb55d0-571c-48ef-ec31-b80c8a2daa75",
        "colab": {
          "base_uri": "https://localhost:8080/",
          "height": 52
        }
      },
      "source": [
        "print(len(all_losses_VAE))\n",
        "print(all_losses_VAE[19419])"
      ],
      "execution_count": 0,
      "outputs": [
        {
          "output_type": "stream",
          "text": [
            "19420\n",
            "400368.62\n"
          ],
          "name": "stdout"
        }
      ]
    },
    {
      "cell_type": "code",
      "metadata": {
        "id": "mWh8xfHA1LB9",
        "colab_type": "code",
        "outputId": "2eca9127-2d22-42cc-e17d-87b396fbd744",
        "colab": {
          "base_uri": "https://localhost:8080/",
          "height": 194
        }
      },
      "source": [
        "# Variational Auto Encoder valid=0.2 beta=0.5 lr=0.0001\n",
        "import pdb\n",
        "from torch.autograd import Variable\n",
        "import torch.optim as optim\n",
        "\n",
        "num_epochs = 10\n",
        "all_losses_valid_VAE=[]\n",
        "\n",
        "for epoch in range(num_epochs): \n",
        "      for i, (inputs, labels) in enumerate(all_valid_conditions_loader, 0):\n",
        "\n",
        "        # pdb.set_trace()\n",
        "        # forward propogation\n",
        "        outputs = modelVAE(inputs)\n",
        "        \n",
        "        # calculate the loss\n",
        "        losses = modelVAE.loss(outputs)\n",
        "        loss = losses['recon_loss'] + losses['kl_div']\n",
        "        # pdb.set_trace()\n",
        "        all_losses_valid_VAE.append(loss.detach().numpy())\n",
        "\n",
        "        # backpropogation + update parameters\n",
        "        optimizer_VAE.zero_grad()\n",
        "        loss.backward()        \n",
        "        optimizer_VAE.step()\n",
        "\n",
        "        # print statistics\n",
        "        cost = loss.item()\n",
        "        if i % 500 == 0:    # print every 500 iterations\n",
        "            print('Epoch:' + str(epoch) + \", Iteration: \" + str(i) \n",
        "                  + \", training cost = \" + str(cost))"
      ],
      "execution_count": 0,
      "outputs": [
        {
          "output_type": "stream",
          "text": [
            "Epoch:0, Iteration: 0, training cost = 491790.15625\n",
            "Epoch:1, Iteration: 0, training cost = 412447.8125\n",
            "Epoch:2, Iteration: 0, training cost = 506019.0625\n",
            "Epoch:3, Iteration: 0, training cost = 463687.28125\n",
            "Epoch:4, Iteration: 0, training cost = 451383.34375\n",
            "Epoch:5, Iteration: 0, training cost = 439023.125\n",
            "Epoch:6, Iteration: 0, training cost = 461058.75\n",
            "Epoch:7, Iteration: 0, training cost = 466685.59375\n",
            "Epoch:8, Iteration: 0, training cost = 419409.59375\n",
            "Epoch:9, Iteration: 0, training cost = 474741.75\n"
          ],
          "name": "stdout"
        }
      ]
    },
    {
      "cell_type": "code",
      "metadata": {
        "id": "2B6yo4h0Ukz3",
        "colab_type": "code",
        "outputId": "3dee33e7-1f01-4170-af09-f4de42fd3386",
        "colab": {
          "base_uri": "https://localhost:8080/",
          "height": 52
        }
      },
      "source": [
        "print(len(all_losses_valid_VAE))\n",
        "print(all_losses_valid_VAE[3239])"
      ],
      "execution_count": 0,
      "outputs": [
        {
          "output_type": "stream",
          "text": [
            "3240\n",
            "295928.94\n"
          ],
          "name": "stdout"
        }
      ]
    },
    {
      "cell_type": "markdown",
      "metadata": {
        "id": "-afLWI7OgK4u",
        "colab_type": "text"
      },
      "source": [
        "## 5.3 CVAE (Conditional VAE) - All Tasks with Tasks as conditions Training"
      ]
    },
    {
      "cell_type": "code",
      "metadata": {
        "colab_type": "code",
        "id": "TsBcgRTfgaci",
        "outputId": "2803115d-e8fe-4533-b00a-f66145b1b7dc",
        "colab": {
          "base_uri": "https://localhost:8080/",
          "height": 727
        }
      },
      "source": [
        "import pdb\n",
        "from torch.autograd import Variable\n",
        "import torch.optim as optim\n",
        "\n",
        "num_epochs = 20\n",
        "all_losses_CVAE=[]\n",
        "\n",
        "for epoch in range(num_epochs): \n",
        "      for i, (inputs, labels) in enumerate(all_train_conditions_loader, 0):\n",
        "\n",
        "        # forward propogation\n",
        "        outputs = modelCVAE(inputs)\n",
        "        \n",
        "        # calculate the loss\n",
        "        losses = modelCVAE.loss(outputs)\n",
        "        loss = losses['recon_loss'] + losses['kl_div']\n",
        "        # pdb.set_trace()\n",
        "        all_losses_CVAE.append(loss.detach().numpy())\n",
        "\n",
        "        # backpropogation + update parameters\n",
        "        optimizer_CVAE.zero_grad()\n",
        "        loss.backward()        \n",
        "        optimizer_CVAE.step()\n",
        "\n",
        "        # print statistics\n",
        "        cost = loss.item()\n",
        "        if i % 500 == 0:    # print every 500 iterations\n",
        "            print('Epoch:' + str(epoch) + \", Iteration: \" + str(i) \n",
        "                  + \", training cost = \" + str(cost))"
      ],
      "execution_count": 0,
      "outputs": [
        {
          "output_type": "stream",
          "text": [
            "Epoch:0, Iteration: 0, training cost = 38358352.0\n",
            "Epoch:0, Iteration: 500, training cost = 1746699.5\n",
            "Epoch:1, Iteration: 0, training cost = 1683694.875\n",
            "Epoch:1, Iteration: 500, training cost = 1214235.25\n",
            "Epoch:2, Iteration: 0, training cost = 1418610.75\n",
            "Epoch:2, Iteration: 500, training cost = 1453820.5\n",
            "Epoch:3, Iteration: 0, training cost = 1191091.5\n",
            "Epoch:3, Iteration: 500, training cost = 935416.375\n",
            "Epoch:4, Iteration: 0, training cost = 961638.0\n",
            "Epoch:4, Iteration: 500, training cost = 925712.125\n",
            "Epoch:5, Iteration: 0, training cost = 705289.125\n",
            "Epoch:5, Iteration: 500, training cost = 799401.6875\n",
            "Epoch:6, Iteration: 0, training cost = 692938.875\n",
            "Epoch:6, Iteration: 500, training cost = 748919.125\n",
            "Epoch:7, Iteration: 0, training cost = 729275.25\n",
            "Epoch:7, Iteration: 500, training cost = 797150.4375\n",
            "Epoch:8, Iteration: 0, training cost = 673819.3125\n",
            "Epoch:8, Iteration: 500, training cost = 741467.9375\n",
            "Epoch:9, Iteration: 0, training cost = 611913.0\n",
            "Epoch:9, Iteration: 500, training cost = 574295.9375\n",
            "Epoch:10, Iteration: 0, training cost = 580916.9375\n",
            "Epoch:10, Iteration: 500, training cost = 547460.8125\n",
            "Epoch:11, Iteration: 0, training cost = 585002.625\n",
            "Epoch:11, Iteration: 500, training cost = 635439.3125\n",
            "Epoch:12, Iteration: 0, training cost = 628209.125\n",
            "Epoch:12, Iteration: 500, training cost = 611902.75\n",
            "Epoch:13, Iteration: 0, training cost = 496408.09375\n",
            "Epoch:13, Iteration: 500, training cost = 492369.125\n",
            "Epoch:14, Iteration: 0, training cost = 628577.625\n",
            "Epoch:14, Iteration: 500, training cost = 543373.8125\n",
            "Epoch:15, Iteration: 0, training cost = 575192.3125\n",
            "Epoch:15, Iteration: 500, training cost = 542616.8125\n",
            "Epoch:16, Iteration: 0, training cost = 500242.65625\n",
            "Epoch:16, Iteration: 500, training cost = 489845.875\n",
            "Epoch:17, Iteration: 0, training cost = 492821.40625\n",
            "Epoch:17, Iteration: 500, training cost = 577395.375\n",
            "Epoch:18, Iteration: 0, training cost = 459928.375\n",
            "Epoch:18, Iteration: 500, training cost = 507272.0\n",
            "Epoch:19, Iteration: 0, training cost = 505363.3125\n",
            "Epoch:19, Iteration: 500, training cost = 506630.96875\n"
          ],
          "name": "stdout"
        }
      ]
    },
    {
      "cell_type": "code",
      "metadata": {
        "id": "IE9eFd0AiwDh",
        "colab_type": "code",
        "outputId": "58cb104e-f80f-4ac9-cdc5-0db26a510126",
        "colab": {
          "base_uri": "https://localhost:8080/",
          "height": 52
        }
      },
      "source": [
        "print(len(all_losses_CVAE))\n",
        "print(all_losses_CVAE[19419])"
      ],
      "execution_count": 0,
      "outputs": [
        {
          "output_type": "stream",
          "text": [
            "19420\n",
            "357765.75\n"
          ],
          "name": "stdout"
        }
      ]
    },
    {
      "cell_type": "code",
      "metadata": {
        "id": "9yyYIsT_2NzS",
        "colab_type": "code",
        "outputId": "95572346-4019-4436-91d8-fa2f6a3849b0",
        "colab": {
          "base_uri": "https://localhost:8080/",
          "height": 194
        }
      },
      "source": [
        "# Conditional Variational Auto Encoder CVAE valid=0.2 beta=0.5 lr=0.0001\n",
        "import pdb\n",
        "from torch.autograd import Variable\n",
        "import torch.optim as optim\n",
        "\n",
        "num_epochs = 10\n",
        "all_losses_valid_CVAE=[]\n",
        "\n",
        "for epoch in range(num_epochs): \n",
        "      for i, (inputs, labels) in enumerate(all_valid_conditions_loader, 0):\n",
        "\n",
        "        # forward propogation\n",
        "        outputs = modelCVAE(inputs)\n",
        "        \n",
        "        # calculate the loss\n",
        "        losses = modelCVAE.loss(outputs)\n",
        "        loss = losses['recon_loss'] + losses['kl_div']\n",
        "        # pdb.set_trace()\n",
        "        all_losses_valid_CVAE.append(loss.detach().numpy())\n",
        "\n",
        "        # backpropogation + update parameters\n",
        "        optimizer_CVAE.zero_grad()\n",
        "        loss.backward()        \n",
        "        optimizer_CVAE.step()\n",
        "\n",
        "        # print statistics\n",
        "        cost = loss.item()\n",
        "        if i % 500 == 0:    # print every 500 iterations\n",
        "            print('Epoch:' + str(epoch) + \", Iteration: \" + str(i) \n",
        "                  + \", training cost = \" + str(cost))"
      ],
      "execution_count": 0,
      "outputs": [
        {
          "output_type": "stream",
          "text": [
            "Epoch:0, Iteration: 0, training cost = 495667.3125\n",
            "Epoch:1, Iteration: 0, training cost = 461326.125\n",
            "Epoch:2, Iteration: 0, training cost = 475374.40625\n",
            "Epoch:3, Iteration: 0, training cost = 467001.21875\n",
            "Epoch:4, Iteration: 0, training cost = 490323.09375\n",
            "Epoch:5, Iteration: 0, training cost = 437880.0\n",
            "Epoch:6, Iteration: 0, training cost = 497874.28125\n",
            "Epoch:7, Iteration: 0, training cost = 484703.4375\n",
            "Epoch:8, Iteration: 0, training cost = 521595.15625\n",
            "Epoch:9, Iteration: 0, training cost = 477167.1875\n"
          ],
          "name": "stdout"
        }
      ]
    },
    {
      "cell_type": "code",
      "metadata": {
        "id": "XdBZDBUAlPYx",
        "colab_type": "code",
        "outputId": "73d4a1f0-a9f7-4397-ce30-2df3dffe2f9f",
        "colab": {
          "base_uri": "https://localhost:8080/",
          "height": 52
        }
      },
      "source": [
        "print(len(all_losses_valid_CVAE))\n",
        "print(all_losses_valid_CVAE[3239])"
      ],
      "execution_count": 0,
      "outputs": [
        {
          "output_type": "stream",
          "text": [
            "3240\n",
            "292318.34\n"
          ],
          "name": "stdout"
        }
      ]
    },
    {
      "cell_type": "markdown",
      "metadata": {
        "id": "CPlR_YAF24yc",
        "colab_type": "text"
      },
      "source": [
        "### Train & Test loader for training and validating models"
      ]
    },
    {
      "cell_type": "markdown",
      "metadata": {
        "id": "5y0qjhkOIVOi",
        "colab_type": "text"
      },
      "source": [
        "Train_loader 0.6 for the split with valid sets"
      ]
    },
    {
      "cell_type": "code",
      "metadata": {
        "id": "RkDROCqyIfCf",
        "colab_type": "code",
        "outputId": "0579ffbb-b67b-45c2-a458-163a3d0a35d2",
        "colab": {
          "base_uri": "https://localhost:8080/",
          "height": 372
        }
      },
      "source": [
        "# train_size = 0.6   lr=0.0005  beta=0.5\n",
        "import pdb\n",
        "from torch.autograd import Variable\n",
        "import torch.optim as optim\n",
        "\n",
        "num_epochs = 20\n",
        "all_losses_CVAE=[]\n",
        "\n",
        "for epoch in range(num_epochs): \n",
        "      for i, (inputs, labels) in enumerate(all_train_conditions_loader, 0):\n",
        "\n",
        "        # forward propogation\n",
        "        # Add codes, flatten vector\n",
        "        # inputs = inputs.view(inputs.shape[0], -1)\n",
        "\n",
        "        outputs = modelCVAE(inputs)\n",
        "        \n",
        "        # calculate the loss\n",
        "        losses = modelCVAE.loss(outputs)\n",
        "        loss = losses['recon_loss'] + losses['kl_div']\n",
        "        # pdb.set_trace()\n",
        "        all_losses_CVAE.append(loss.detach().numpy())\n",
        "\n",
        "        # backpropogation + update parameters\n",
        "        optimizer_CVAE.zero_grad()\n",
        "        loss.backward()        \n",
        "        optimizer_CVAE.step()\n",
        "\n",
        "        # print statistics\n",
        "        cost = loss.item()\n",
        "        if i % 1000 == 0:    # print every 1000 iterations\n",
        "            print('Epoch:' + str(epoch) + \", Iteration: \" + str(i) \n",
        "                  + \", training cost = \" + str(cost))"
      ],
      "execution_count": 0,
      "outputs": [
        {
          "output_type": "stream",
          "text": [
            "Epoch:0, Iteration: 0, training cost = 4785922560.0\n",
            "Epoch:1, Iteration: 0, training cost = 4461111808.0\n",
            "Epoch:2, Iteration: 0, training cost = 6740010496.0\n",
            "Epoch:3, Iteration: 0, training cost = 3165679872.0\n",
            "Epoch:4, Iteration: 0, training cost = 3864285696.0\n",
            "Epoch:5, Iteration: 0, training cost = 4514061312.0\n",
            "Epoch:6, Iteration: 0, training cost = 4818460160.0\n",
            "Epoch:7, Iteration: 0, training cost = 2142470784.0\n",
            "Epoch:8, Iteration: 0, training cost = 4641462784.0\n",
            "Epoch:9, Iteration: 0, training cost = 3830101504.0\n",
            "Epoch:10, Iteration: 0, training cost = 4724872192.0\n",
            "Epoch:11, Iteration: 0, training cost = 8258710016.0\n",
            "Epoch:12, Iteration: 0, training cost = 6552641024.0\n",
            "Epoch:13, Iteration: 0, training cost = 3161774080.0\n",
            "Epoch:14, Iteration: 0, training cost = 4538194944.0\n",
            "Epoch:15, Iteration: 0, training cost = 4647367680.0\n",
            "Epoch:16, Iteration: 0, training cost = 4124185088.0\n",
            "Epoch:17, Iteration: 0, training cost = 2829093632.0\n",
            "Epoch:18, Iteration: 0, training cost = 3013321472.0\n",
            "Epoch:19, Iteration: 0, training cost = 4601214976.0\n"
          ],
          "name": "stdout"
        }
      ]
    },
    {
      "cell_type": "markdown",
      "metadata": {
        "id": "NwItZW_ZJQ23",
        "colab_type": "text"
      },
      "source": [
        "Loop through the Valid Set (0.2) using the trained model"
      ]
    },
    {
      "cell_type": "code",
      "metadata": {
        "id": "Eh2pTPykJ2ua",
        "colab_type": "code",
        "outputId": "863b3686-929b-4111-eabb-aa1e2c8f61ba",
        "colab": {
          "base_uri": "https://localhost:8080/",
          "height": 194
        }
      },
      "source": [
        "# valid_size=0.2\n",
        "import pdb\n",
        "from torch.autograd import Variable\n",
        "import torch.optim as optim\n",
        "\n",
        "num_epochs = 10\n",
        "all_losses_valid_CVAE=[]\n",
        "\n",
        "for epoch in range(num_epochs): \n",
        "      for i, (inputs, labels) in enumerate(all_valid_conditions_loader, 0):\n",
        "\n",
        "        # forward propogation\n",
        "        # Add codes, flatten vector\n",
        "        # inputs = inputs.view(inputs.shape[0], -1)\n",
        "\n",
        "        outputs = modelCVAE(inputs)\n",
        "        \n",
        "        # calculate the loss\n",
        "        losses = modelCVAE.loss(outputs)\n",
        "        loss = losses['recon_loss'] + losses['kl_div']\n",
        "        # pdb.set_trace()\n",
        "        all_losses_valid_CVAE.append(loss.detach().numpy())\n",
        "\n",
        "        # backpropogation + update parameters\n",
        "        optimizer_CVAE.zero_grad()\n",
        "        loss.backward()        \n",
        "        optimizer_CVAE.step()\n",
        "\n",
        "        # print statistics\n",
        "        cost = loss.item()\n",
        "        if i % 1000 == 0:    # print every 1000 iterations\n",
        "            print('Epoch:' + str(epoch) + \", Iteration: \" + str(i) \n",
        "                  + \", valid cost = \" + str(cost))"
      ],
      "execution_count": 0,
      "outputs": [
        {
          "output_type": "stream",
          "text": [
            "Epoch:0, Iteration: 0, valid cost = 52022912.0\n",
            "Epoch:1, Iteration: 0, valid cost = 43463428.0\n",
            "Epoch:2, Iteration: 0, valid cost = 36209508.0\n",
            "Epoch:3, Iteration: 0, valid cost = 30278002.0\n",
            "Epoch:4, Iteration: 0, valid cost = 24169864.0\n",
            "Epoch:5, Iteration: 0, valid cost = 19586980.0\n",
            "Epoch:6, Iteration: 0, valid cost = 15602754.0\n",
            "Epoch:7, Iteration: 0, valid cost = 13778058.0\n",
            "Epoch:8, Iteration: 0, valid cost = 10515416.0\n",
            "Epoch:9, Iteration: 0, valid cost = 7893201.0\n"
          ],
          "name": "stdout"
        }
      ]
    },
    {
      "cell_type": "markdown",
      "metadata": {
        "id": "ayWEztedJSvI",
        "colab_type": "text"
      },
      "source": [
        "# Step 6: Visualize Loss History"
      ]
    },
    {
      "cell_type": "markdown",
      "metadata": {
        "id": "PuCOUqfSO2AJ",
        "colab_type": "text"
      },
      "source": [
        "## 6.1 Auto Encoder - All Tasks Loss History"
      ]
    },
    {
      "cell_type": "code",
      "metadata": {
        "id": "KKC2jEYZJ2BI",
        "colab_type": "code",
        "outputId": "7a2ec595-c7a1-4c87-dbe2-8a041f19acd0",
        "colab": {
          "base_uri": "https://localhost:8080/",
          "height": 298
        }
      },
      "source": [
        "import numpy as np\n",
        "import matplotlib.pyplot as plt\n",
        "\n",
        "print(len(all_losses_AE))\n",
        "plt.plot(all_losses_AE)\n",
        "\n",
        "plt.yscale('log')\n",
        "bottom, top = plt.ylim()\n",
        "plt.ylim(bottom, top)\n",
        "plt.title(\"Training loss modelAE beta=0.5 lr=0.0001\")\n",
        "plt.show()\n",
        "\n",
        "# iterations vs. cost"
      ],
      "execution_count": 0,
      "outputs": [
        {
          "output_type": "stream",
          "text": [
            "19420\n"
          ],
          "name": "stdout"
        },
        {
          "output_type": "display_data",
          "data": {
            "image/png": "[encoded data removed]",
            "text/plain": [
              "<Figure size 432x288 with 1 Axes>"
            ]
          },
          "metadata": {
            "tags": [],
            "needs_background": "light"
          }
        }
      ]
    },
    {
      "cell_type": "code",
      "metadata": {
        "id": "ahg0J4Ye3g8d",
        "colab_type": "code",
        "outputId": "046ebabb-ca71-4f00-af50-10b62c1e73ee",
        "colab": {
          "base_uri": "https://localhost:8080/",
          "height": 298
        }
      },
      "source": [
        "import numpy as np\n",
        "import matplotlib.pyplot as plt\n",
        "\n",
        "print(len(all_losses_valid_AE))\n",
        "plt.plot(all_losses_valid_AE)\n",
        "plt.yscale('log')\n",
        "plt.ylim(bottom, top)\n",
        "plt.title(\"Valid loss modelAE beta=0.5 lr=0.0001\")\n",
        "plt.show()\n",
        "\n",
        "# iterations vs. cost"
      ],
      "execution_count": 0,
      "outputs": [
        {
          "output_type": "stream",
          "text": [
            "3240\n"
          ],
          "name": "stdout"
        },
        {
          "output_type": "display_data",
          "data": {
            "image/png": "[encoded data removed]",
            "text/plain": [
              "<Figure size 432x288 with 1 Axes>"
            ]
          },
          "metadata": {
            "tags": [],
            "needs_background": "light"
          }
        }
      ]
    },
    {
      "cell_type": "markdown",
      "metadata": {
        "id": "wYHQ1iywdNxF",
        "colab_type": "text"
      },
      "source": [
        "## 6.2 Variational Auto Encoder All Tasks Loss History\n",
        "\n"
      ]
    },
    {
      "cell_type": "code",
      "metadata": {
        "id": "u0ggGEEsdR4G",
        "colab_type": "code",
        "outputId": "01e941e3-7fff-42a3-f021-cf8686cb70ac",
        "colab": {
          "base_uri": "https://localhost:8080/",
          "height": 281
        }
      },
      "source": [
        "import numpy as np\n",
        "import matplotlib.pyplot as plt\n",
        "\n",
        "plt.plot(all_losses_VAE, color='green')\n",
        "plt.yscale('log')\n",
        "bottom, top = plt.ylim()\n",
        "plt.ylim(bottom, top)\n",
        "plt.title(\"Training loss modelVAE beta=0.5 lr=0.0001\")\n",
        "plt.show()\n",
        "\n",
        "# iterations vs. cost"
      ],
      "execution_count": 0,
      "outputs": [
        {
          "output_type": "display_data",
          "data": {
            "image/png": "[encoded data removed]",
            "text/plain": [
              "<Figure size 432x288 with 1 Axes>"
            ]
          },
          "metadata": {
            "tags": [],
            "needs_background": "light"
          }
        }
      ]
    },
    {
      "cell_type": "code",
      "metadata": {
        "id": "T_s06yUuSp09",
        "colab_type": "code",
        "outputId": "da38972b-e7d7-4527-c84e-5f88c0aad5db",
        "colab": {
          "base_uri": "https://localhost:8080/",
          "height": 298
        }
      },
      "source": [
        "import numpy as np\n",
        "import matplotlib.pyplot as plt\n",
        "\n",
        "print(len(all_losses_valid_VAE))\n",
        "plt.plot(all_losses_valid_VAE, color='green')\n",
        "plt.yscale('log')\n",
        "plt.ylim(bottom, top)\n",
        "plt.title(\"Valid loss modelVAE beta=0.5 lr=0.0001\")\n",
        "plt.show()\n",
        "\n",
        "# iterations vs. cost"
      ],
      "execution_count": 0,
      "outputs": [
        {
          "output_type": "stream",
          "text": [
            "3240\n"
          ],
          "name": "stdout"
        },
        {
          "output_type": "display_data",
          "data": {
            "image/png": "[encoded data removed]",
            "text/plain": [
              "<Figure size 432x288 with 1 Axes>"
            ]
          },
          "metadata": {
            "tags": [],
            "needs_background": "light"
          }
        }
      ]
    },
    {
      "cell_type": "markdown",
      "metadata": {
        "id": "LGcwuJpjg4kU",
        "colab_type": "text"
      },
      "source": [
        "## 6.3 Conditional Variational Auto Encoder - All Tasks Loss History"
      ]
    },
    {
      "cell_type": "code",
      "metadata": {
        "colab_type": "code",
        "id": "Uae4ElxJhMFN",
        "outputId": "cfed4631-dd05-42e3-96fc-5d80bcefa3c5",
        "colab": {
          "base_uri": "https://localhost:8080/",
          "height": 281
        }
      },
      "source": [
        "import numpy as np\n",
        "import matplotlib.pyplot as plt\n",
        "\n",
        "plt.plot(all_losses_CVAE, color='red')\n",
        "plt.yscale('log')\n",
        "bottom, top = plt.ylim()\n",
        "plt.ylim(bottom, top)\n",
        "plt.title(\"Training loss modelCVAE beta=0.5 lr=0.0001\")\n",
        "plt.show()\n",
        "\n",
        "# iterations vs. cost"
      ],
      "execution_count": 0,
      "outputs": [
        {
          "output_type": "display_data",
          "data": {
            "image/png": "[encoded data removed]",
            "text/plain": [
              "<Figure size 432x288 with 1 Axes>"
            ]
          },
          "metadata": {
            "tags": [],
            "needs_background": "light"
          }
        }
      ]
    },
    {
      "cell_type": "code",
      "metadata": {
        "id": "Dm4I45Nek4eI",
        "colab_type": "code",
        "outputId": "4c8f311a-6b28-4071-f000-ec7750bfb170",
        "colab": {
          "base_uri": "https://localhost:8080/",
          "height": 298
        }
      },
      "source": [
        "import numpy as np\n",
        "import matplotlib.pyplot as plt\n",
        "\n",
        "print(len(all_losses_valid_CVAE))\n",
        "plt.plot(all_losses_valid_CVAE, color='red')\n",
        "plt.yscale('log')\n",
        "plt.ylim(bottom, top)\n",
        "plt.title(\"Valid loss modelCVAE beta=0.5 lr=0.0001\")\n",
        "plt.show()\n",
        "\n",
        "# iterations vs. cost"
      ],
      "execution_count": 0,
      "outputs": [
        {
          "output_type": "stream",
          "text": [
            "3240\n"
          ],
          "name": "stdout"
        },
        {
          "output_type": "display_data",
          "data": {
            "image/png": "[encoded data removed]",
            "text/plain": [
              "<Figure size 432x288 with 1 Axes>"
            ]
          },
          "metadata": {
            "tags": [],
            "needs_background": "light"
          }
        }
      ]
    },
    {
      "cell_type": "code",
      "metadata": {
        "id": "rO0V2ySfvoXh",
        "colab_type": "code",
        "outputId": "51f89fd8-fd7b-41b3-8f7c-55dcbeb99c46",
        "colab": {
          "base_uri": "https://localhost:8080/",
          "height": 281
        }
      },
      "source": [
        "plt.plot(all_losses_AE, label='AE_train', color='blue', linewidth=0.1)\n",
        "plt.plot(all_losses_VAE, label='VAE_train', color='green', linewidth=0.1)\n",
        "plt.plot(all_losses_CVAE, label='CVAE_train', color='red', linewidth=0.1)\n",
        "\n",
        "plt.legend(loc='upper right')\n",
        "plt.yscale('log')\n",
        "# bottom, top = plt.ylim()\n",
        "# plt.ylim(bottom, top)\n",
        "plt.title(\"Training Loss beta=0.5 lr=0.0001\")\n",
        "plt.show()"
      ],
      "execution_count": 0,
      "outputs": [
        {
          "output_type": "display_data",
          "data": {
            "image/png": "[encoded data removed]",
            "text/plain": [
              "<Figure size 432x288 with 1 Axes>"
            ]
          },
          "metadata": {
            "tags": [],
            "needs_background": "light"
          }
        }
      ]
    },
    {
      "cell_type": "code",
      "metadata": {
        "id": "S_BXr6tL01YZ",
        "colab_type": "code",
        "outputId": "0da08271-dd4f-4c01-eef8-6d1c082f9442",
        "colab": {
          "base_uri": "https://localhost:8080/",
          "height": 281
        }
      },
      "source": [
        "plt.plot(all_losses_valid_AE, label='AE_valid', color='blue', linewidth=0.1)\n",
        "plt.plot(all_losses_valid_VAE, label='VAE_valid', color='green', linewidth=0.1)\n",
        "plt.plot(all_losses_valid_CVAE, label='CVAE_valid', color='red', linewidth=0.1)\n",
        "\n",
        "plt.legend(loc='upper right')\n",
        "plt.yscale('log')\n",
        "# bottom, top = plt.ylim()\n",
        "# plt.ylim(bottom, top)\n",
        "plt.title(\"Valid Loss beta=0.5 lr=0.0001\")\n",
        "plt.show()"
      ],
      "execution_count": 0,
      "outputs": [
        {
          "output_type": "display_data",
          "data": {
            "image/png": "[encoded data removed]",
            "text/plain": [
              "<Figure size 432x288 with 1 Axes>"
            ]
          },
          "metadata": {
            "tags": [],
            "needs_background": "light"
          }
        }
      ]
    },
    {
      "cell_type": "markdown",
      "metadata": {
        "id": "vHPpVAMPK6gK",
        "colab_type": "text"
      },
      "source": [
        "# Step 7 Saving/Loading Losses/Models"
      ]
    },
    {
      "cell_type": "code",
      "metadata": {
        "id": "XVTclbEBcFow",
        "colab_type": "code",
        "colab": {}
      },
      "source": [
        "# Save Models\n",
        "import numpy as np\n",
        "\n",
        "np.save(join(PROJECT_PATH, 'ai4genomics_models/modelAE_beta5_lr0001.pth'), modelAE)\n",
        "np.save(join(PROJECT_PATH, 'ai4genomics_models/modelVAE_beta5_lr0001.pth'), modelVAE)\n",
        "np.save(join(PROJECT_PATH, 'ai4genomics_models/modelCVAE_beta5_lr0001.pth'), modelCVAE)"
      ],
      "execution_count": 0,
      "outputs": []
    },
    {
      "cell_type": "code",
      "metadata": {
        "id": "5DaRg6XCqupF",
        "colab_type": "code",
        "colab": {}
      },
      "source": [
        "# Save losses\n",
        "import os.path\n",
        "import numpy as np\n",
        "np.save(join(PROJECT_PATH, 'ai4genomics_models/all_losses_AE_beta5_lr0001.npy'), all_losses_AE)\n",
        "np.save(join(PROJECT_PATH, 'ai4genomics_models/all_losses_VAE_beta5_lr0001.npy'), all_losses_VAE)\n",
        "np.save(join(PROJECT_PATH, 'ai4genomics_models/all_losses_CVAE_beta5_lr0001.npy'), all_losses_CVAE)\n",
        "\n",
        "np.save(join(PROJECT_PATH, 'ai4genomics_models/all_losses_valid_AE_beta5_lr0001.npy'), all_losses_valid_AE)\n",
        "np.save(join(PROJECT_PATH, 'ai4genomics_models/all_losses_valid_VAE_beta5_lr0001.npy'), all_losses_valid_VAE)\n",
        "np.save(join(PROJECT_PATH, 'ai4genomics_models/all_losses_valid_CVAE_beta5_lr0001.npy'), all_losses_valid_CVAE)"
      ],
      "execution_count": 0,
      "outputs": []
    },
    {
      "cell_type": "markdown",
      "metadata": {
        "id": "-7xMzu1qdjmD",
        "colab_type": "text"
      },
      "source": [
        "### Visualize Reconstructions"
      ]
    },
    {
      "cell_type": "code",
      "metadata": {
        "id": "A0Mrzjqidpyd",
        "colab_type": "code",
        "colab": {}
      },
      "source": [
        "import numpy as np\n",
        "import matplotlib.pyplot as plt\n",
        "plt.ion()\n",
        "\n",
        "import torchvision.utils\n",
        "\n",
        "vae.eval()\n",
        "\n",
        "# This function takes as an input the images to reconstruct\n",
        "# and the name of the model with which the reconstructions\n",
        "# are performed\n",
        "def to_img(x):\n",
        "    x = x.clamp(0, 1)\n",
        "    return x\n",
        "\n",
        "def show_image(img):\n",
        "    img = to_img(img)\n",
        "    npimg = img.numpy()\n",
        "    plt.imshow(np.transpose(npimg, (1, 2, 0)))\n",
        "\n",
        "def visualise_output(images, model):\n",
        "\n",
        "    with torch.no_grad():\n",
        "    \n",
        "        images = images.to(device)\n",
        "        images, _, _ = model(images)\n",
        "        images = images.cpu()\n",
        "        images = to_img(images)\n",
        "        np_imagegrid = torchvision.utils.make_grid(images[1:50], 10, 5).numpy()\n",
        "        plt.imshow(np.transpose(np_imagegrid, (1, 2, 0)))\n",
        "        plt.show()\n",
        "\n",
        "images, labels = iter(test_dataloader).next()\n",
        "\n",
        "# First visualise the original images\n",
        "print('Original images')\n",
        "show_image(torchvision.utils.make_grid(images[1:50],10,5))\n",
        "plt.show()\n",
        "\n",
        "# Reconstruct and visualise the images using the vae\n",
        "print('VAE reconstruction:')\n",
        "visualise_output(images, vae)"
      ],
      "execution_count": 0,
      "outputs": []
    },
    {
      "cell_type": "markdown",
      "metadata": {
        "id": "u67NgRtlMYWC",
        "colab_type": "text"
      },
      "source": [
        "### Saliency Map"
      ]
    },
    {
      "cell_type": "code",
      "metadata": {
        "id": "8ZGdn1gwMbdq",
        "colab_type": "code",
        "colab": {}
      },
      "source": [
        "idx = 5 # class whose gradient will be computed\n",
        "def plot_saliency(idx):\n",
        "    # Forward pass\n",
        "  data = next(iter(test_loader))\n",
        "  images, labels = data\n",
        "  images.requires_grad = True # the gradient with respect to the input will be computed\n",
        "  outputs = model(images)\n",
        "\n",
        "  # Backward pass\n",
        "  loss = outputs[:, idx: idx+1].sum()\n",
        "  loss.backward(retain_graph=True)\n",
        "  heatmaps = images.grad.detach().numpy() # The heatmap is the gradient with respect to the input\n",
        "\n",
        "  # Plot\n",
        "  fig, axs = plt.subplots(4, 4, figsize=(10, 10))\n",
        "  fig.suptitle(\"Saliency maps with respect to class \" + str(idx) + \", green corresponds to positive gradient and red to negative\")\n",
        "  for i in range(4):\n",
        "    for j in range(2):\n",
        "      axs[i, 2*j].imshow(images[2*i + j].detach())\n",
        "      axs[i, 2*j].axis('off')\n",
        "      axs[i, 2*j+1].imshow(heatmaps[2*i + j], cmap=\"PiYG\", vmin=-1, vmax=1)\n",
        "      axs[i, 2*j+1].axis('off')\n",
        "  plt.show()\n",
        "  plot_saliency(idx=1)"
      ],
      "execution_count": 0,
      "outputs": []
    },
    {
      "cell_type": "markdown",
      "metadata": {
        "id": "zG8W9QJ6M_qp",
        "colab_type": "text"
      },
      "source": [
        "### Deep Dream"
      ]
    },
    {
      "cell_type": "code",
      "metadata": {
        "id": "W2GnpfKrNK0m",
        "colab_type": "code",
        "colab": {}
      },
      "source": [
        "idx = 3 # class whose gradient will be computed\n",
        "lr = 0.01 # Learning rate for deep dream\n",
        "n_iter = 60 # Number of iterations for Deep Dream"
      ],
      "execution_count": 0,
      "outputs": []
    },
    {
      "cell_type": "code",
      "metadata": {
        "id": "XpWIEOPtNMC3",
        "colab_type": "code",
        "outputId": "9e421f5f-978e-4d75-cd3f-df6513d5fb8b",
        "colab": {
          "base_uri": "https://localhost:8080/",
          "height": 300
        }
      },
      "source": [
        "# Forward pass\n",
        "data = next(iter(test_loader))\n",
        "images, labels = data\n",
        "pdb.set_trace()\n",
        "images.requires_grad = True # the gradient with respect to the input will be computed\n",
        "outputs = model(images)"
      ],
      "execution_count": 0,
      "outputs": [
        {
          "output_type": "stream",
          "text": [
            "--Return--\n",
            "> <ipython-input-92-92005545ce81>(3)<module>()->None\n",
            "-> pdb.set_trace()\n",
            "(Pdb) type(images)\n",
            "<class 'torch.Tensor'>\n",
            "(Pdb) type(labels)\n",
            "<class 'torch.Tensor'>\n",
            "(Pdb) data\n",
            "[tensor([[ 9.8408,  5.1448,  0.0000,  ..., 12.3571,  6.2719, 10.3849],\n",
            "        [ 9.6264,  9.1362,  1.1231,  ..., 11.1659,  6.0970, 10.3540],\n",
            "        [10.2154,  3.9748,  0.7809,  ..., 11.5536,  4.7080, 10.0860],\n",
            "        ...,\n",
            "        [ 9.2927,  9.1047,  0.0000,  ..., 10.8198, 10.1195, 10.1235],\n",
            "        [ 9.2387,  9.3958,  0.0000,  ..., 10.9431,  6.8868, 10.0469],\n",
            "        [ 9.2712,  9.6177,  0.0000,  ..., 11.1857,  7.0968, 10.5781]]), tensor([2., 0., 2., 0., 0., 2., 2., 0., 0., 0.])]\n"
          ],
          "name": "stdout"
        }
      ]
    },
    {
      "cell_type": "code",
      "metadata": {
        "id": "oT1DNnJnNRJI",
        "colab_type": "code",
        "outputId": "87352ff9-777e-4649-eeb7-e04f0e38c923",
        "colab": {
          "base_uri": "https://localhost:8080/",
          "height": 388
        }
      },
      "source": [
        "# The Deep Dream procedure:\n",
        "img = images\n",
        "\n",
        "for _ in range(n_iter):\n",
        "    model.zero_grad()\n",
        "    outputs = model(img)\n",
        "    loss = outputs[:, idx: idx+1].sum() # maximize the class idx\n",
        "    loss.backward(retain_graph=True)\n",
        "    img = img + lr * img.grad # The gradient is added to the image\n",
        "    img.data = torch.clamp(img.data, min=0)\n",
        "\n",
        "    # Trick to forget the computation graph\n",
        "    img = img.detach().numpy()\n",
        "    img = torch.Tensor(img)\n",
        "    img.requires_grad = True"
      ],
      "execution_count": 0,
      "outputs": [
        {
          "output_type": "error",
          "ename": "RuntimeError",
          "evalue": "ignored",
          "traceback": [
            "\u001b[0;31m---------------------------------------------------------------------------\u001b[0m",
            "\u001b[0;31mRuntimeError\u001b[0m                              Traceback (most recent call last)",
            "\u001b[0;32m<ipython-input-68-72ed1c6f80c6>\u001b[0m in \u001b[0;36m<module>\u001b[0;34m()\u001b[0m\n\u001b[1;32m      3\u001b[0m \u001b[0;32mfor\u001b[0m \u001b[0m_\u001b[0m \u001b[0;32min\u001b[0m \u001b[0mrange\u001b[0m\u001b[0;34m(\u001b[0m\u001b[0mn_iter\u001b[0m\u001b[0;34m)\u001b[0m\u001b[0;34m:\u001b[0m\u001b[0;34m\u001b[0m\u001b[0;34m\u001b[0m\u001b[0m\n\u001b[1;32m      4\u001b[0m     \u001b[0mmodel\u001b[0m\u001b[0;34m.\u001b[0m\u001b[0mzero_grad\u001b[0m\u001b[0;34m(\u001b[0m\u001b[0;34m)\u001b[0m\u001b[0;34m\u001b[0m\u001b[0;34m\u001b[0m\u001b[0m\n\u001b[0;32m----> 5\u001b[0;31m     \u001b[0moutputs\u001b[0m \u001b[0;34m=\u001b[0m \u001b[0mmodel\u001b[0m\u001b[0;34m(\u001b[0m\u001b[0mimg\u001b[0m\u001b[0;34m)\u001b[0m\u001b[0;34m\u001b[0m\u001b[0;34m\u001b[0m\u001b[0m\n\u001b[0m\u001b[1;32m      6\u001b[0m     \u001b[0mloss\u001b[0m \u001b[0;34m=\u001b[0m \u001b[0moutputs\u001b[0m\u001b[0;34m[\u001b[0m\u001b[0;34m:\u001b[0m\u001b[0;34m,\u001b[0m \u001b[0midx\u001b[0m\u001b[0;34m:\u001b[0m \u001b[0midx\u001b[0m\u001b[0;34m+\u001b[0m\u001b[0;36m1\u001b[0m\u001b[0;34m]\u001b[0m\u001b[0;34m.\u001b[0m\u001b[0msum\u001b[0m\u001b[0;34m(\u001b[0m\u001b[0;34m)\u001b[0m \u001b[0;31m# maximize the class idx\u001b[0m\u001b[0;34m\u001b[0m\u001b[0;34m\u001b[0m\u001b[0m\n\u001b[1;32m      7\u001b[0m     \u001b[0mloss\u001b[0m\u001b[0;34m.\u001b[0m\u001b[0mbackward\u001b[0m\u001b[0;34m(\u001b[0m\u001b[0mretain_graph\u001b[0m\u001b[0;34m=\u001b[0m\u001b[0;32mTrue\u001b[0m\u001b[0;34m)\u001b[0m\u001b[0;34m\u001b[0m\u001b[0;34m\u001b[0m\u001b[0m\n",
            "\u001b[0;32m/usr/local/lib/python3.6/dist-packages/torch/nn/modules/module.py\u001b[0m in \u001b[0;36m__call__\u001b[0;34m(self, *input, **kwargs)\u001b[0m\n\u001b[1;32m    530\u001b[0m             \u001b[0mresult\u001b[0m \u001b[0;34m=\u001b[0m \u001b[0mself\u001b[0m\u001b[0;34m.\u001b[0m\u001b[0m_slow_forward\u001b[0m\u001b[0;34m(\u001b[0m\u001b[0;34m*\u001b[0m\u001b[0minput\u001b[0m\u001b[0;34m,\u001b[0m \u001b[0;34m**\u001b[0m\u001b[0mkwargs\u001b[0m\u001b[0;34m)\u001b[0m\u001b[0;34m\u001b[0m\u001b[0;34m\u001b[0m\u001b[0m\n\u001b[1;32m    531\u001b[0m         \u001b[0;32melse\u001b[0m\u001b[0;34m:\u001b[0m\u001b[0;34m\u001b[0m\u001b[0;34m\u001b[0m\u001b[0m\n\u001b[0;32m--> 532\u001b[0;31m             \u001b[0mresult\u001b[0m \u001b[0;34m=\u001b[0m \u001b[0mself\u001b[0m\u001b[0;34m.\u001b[0m\u001b[0mforward\u001b[0m\u001b[0;34m(\u001b[0m\u001b[0;34m*\u001b[0m\u001b[0minput\u001b[0m\u001b[0;34m,\u001b[0m \u001b[0;34m**\u001b[0m\u001b[0mkwargs\u001b[0m\u001b[0;34m)\u001b[0m\u001b[0;34m\u001b[0m\u001b[0;34m\u001b[0m\u001b[0m\n\u001b[0m\u001b[1;32m    533\u001b[0m         \u001b[0;32mfor\u001b[0m \u001b[0mhook\u001b[0m \u001b[0;32min\u001b[0m \u001b[0mself\u001b[0m\u001b[0;34m.\u001b[0m\u001b[0m_forward_hooks\u001b[0m\u001b[0;34m.\u001b[0m\u001b[0mvalues\u001b[0m\u001b[0;34m(\u001b[0m\u001b[0;34m)\u001b[0m\u001b[0;34m:\u001b[0m\u001b[0;34m\u001b[0m\u001b[0;34m\u001b[0m\u001b[0m\n\u001b[1;32m    534\u001b[0m             \u001b[0mhook_result\u001b[0m \u001b[0;34m=\u001b[0m \u001b[0mhook\u001b[0m\u001b[0;34m(\u001b[0m\u001b[0mself\u001b[0m\u001b[0;34m,\u001b[0m \u001b[0minput\u001b[0m\u001b[0;34m,\u001b[0m \u001b[0mresult\u001b[0m\u001b[0;34m)\u001b[0m\u001b[0;34m\u001b[0m\u001b[0;34m\u001b[0m\u001b[0m\n",
            "\u001b[0;32m<ipython-input-36-1fcc34b9edc9>\u001b[0m in \u001b[0;36mforward\u001b[0;34m(self, x)\u001b[0m\n\u001b[1;32m     44\u001b[0m \u001b[0;34m\u001b[0m\u001b[0m\n\u001b[1;32m     45\u001b[0m     \u001b[0;32mdef\u001b[0m \u001b[0mforward\u001b[0m\u001b[0;34m(\u001b[0m\u001b[0mself\u001b[0m\u001b[0;34m,\u001b[0m \u001b[0mx\u001b[0m\u001b[0;34m)\u001b[0m\u001b[0;34m:\u001b[0m\u001b[0;34m\u001b[0m\u001b[0;34m\u001b[0m\u001b[0m\n\u001b[0;32m---> 46\u001b[0;31m         \u001b[0mout\u001b[0m \u001b[0;34m=\u001b[0m \u001b[0mself\u001b[0m\u001b[0;34m.\u001b[0m\u001b[0mconv\u001b[0m\u001b[0;34m(\u001b[0m\u001b[0mx\u001b[0m\u001b[0;34m)\u001b[0m\u001b[0;34m\u001b[0m\u001b[0;34m\u001b[0m\u001b[0m\n\u001b[0m\u001b[1;32m     47\u001b[0m         \u001b[0mout\u001b[0m \u001b[0;34m=\u001b[0m \u001b[0mout\u001b[0m\u001b[0;34m.\u001b[0m\u001b[0mview\u001b[0m\u001b[0;34m(\u001b[0m\u001b[0mout\u001b[0m\u001b[0;34m.\u001b[0m\u001b[0msize\u001b[0m\u001b[0;34m(\u001b[0m\u001b[0;36m0\u001b[0m\u001b[0;34m)\u001b[0m\u001b[0;34m,\u001b[0m \u001b[0;34m-\u001b[0m\u001b[0;36m1\u001b[0m\u001b[0;34m)\u001b[0m\u001b[0;34m\u001b[0m\u001b[0;34m\u001b[0m\u001b[0m\n\u001b[1;32m     48\u001b[0m         \u001b[0mout\u001b[0m \u001b[0;34m=\u001b[0m \u001b[0mself\u001b[0m\u001b[0;34m.\u001b[0m\u001b[0mfc\u001b[0m\u001b[0;34m(\u001b[0m\u001b[0mout\u001b[0m\u001b[0;34m)\u001b[0m\u001b[0;34m\u001b[0m\u001b[0;34m\u001b[0m\u001b[0m\n",
            "\u001b[0;32m/usr/local/lib/python3.6/dist-packages/torch/nn/modules/module.py\u001b[0m in \u001b[0;36m__call__\u001b[0;34m(self, *input, **kwargs)\u001b[0m\n\u001b[1;32m    530\u001b[0m             \u001b[0mresult\u001b[0m \u001b[0;34m=\u001b[0m \u001b[0mself\u001b[0m\u001b[0;34m.\u001b[0m\u001b[0m_slow_forward\u001b[0m\u001b[0;34m(\u001b[0m\u001b[0;34m*\u001b[0m\u001b[0minput\u001b[0m\u001b[0;34m,\u001b[0m \u001b[0;34m**\u001b[0m\u001b[0mkwargs\u001b[0m\u001b[0;34m)\u001b[0m\u001b[0;34m\u001b[0m\u001b[0;34m\u001b[0m\u001b[0m\n\u001b[1;32m    531\u001b[0m         \u001b[0;32melse\u001b[0m\u001b[0;34m:\u001b[0m\u001b[0;34m\u001b[0m\u001b[0;34m\u001b[0m\u001b[0m\n\u001b[0;32m--> 532\u001b[0;31m             \u001b[0mresult\u001b[0m \u001b[0;34m=\u001b[0m \u001b[0mself\u001b[0m\u001b[0;34m.\u001b[0m\u001b[0mforward\u001b[0m\u001b[0;34m(\u001b[0m\u001b[0;34m*\u001b[0m\u001b[0minput\u001b[0m\u001b[0;34m,\u001b[0m \u001b[0;34m**\u001b[0m\u001b[0mkwargs\u001b[0m\u001b[0;34m)\u001b[0m\u001b[0;34m\u001b[0m\u001b[0;34m\u001b[0m\u001b[0m\n\u001b[0m\u001b[1;32m    533\u001b[0m         \u001b[0;32mfor\u001b[0m \u001b[0mhook\u001b[0m \u001b[0;32min\u001b[0m \u001b[0mself\u001b[0m\u001b[0;34m.\u001b[0m\u001b[0m_forward_hooks\u001b[0m\u001b[0;34m.\u001b[0m\u001b[0mvalues\u001b[0m\u001b[0;34m(\u001b[0m\u001b[0;34m)\u001b[0m\u001b[0;34m:\u001b[0m\u001b[0;34m\u001b[0m\u001b[0;34m\u001b[0m\u001b[0m\n\u001b[1;32m    534\u001b[0m             \u001b[0mhook_result\u001b[0m \u001b[0;34m=\u001b[0m \u001b[0mhook\u001b[0m\u001b[0;34m(\u001b[0m\u001b[0mself\u001b[0m\u001b[0;34m,\u001b[0m \u001b[0minput\u001b[0m\u001b[0;34m,\u001b[0m \u001b[0mresult\u001b[0m\u001b[0;34m)\u001b[0m\u001b[0;34m\u001b[0m\u001b[0;34m\u001b[0m\u001b[0m\n",
            "\u001b[0;32m/usr/local/lib/python3.6/dist-packages/torch/nn/modules/container.py\u001b[0m in \u001b[0;36mforward\u001b[0;34m(self, input)\u001b[0m\n\u001b[1;32m     98\u001b[0m     \u001b[0;32mdef\u001b[0m \u001b[0mforward\u001b[0m\u001b[0;34m(\u001b[0m\u001b[0mself\u001b[0m\u001b[0;34m,\u001b[0m \u001b[0minput\u001b[0m\u001b[0;34m)\u001b[0m\u001b[0;34m:\u001b[0m\u001b[0;34m\u001b[0m\u001b[0;34m\u001b[0m\u001b[0m\n\u001b[1;32m     99\u001b[0m         \u001b[0;32mfor\u001b[0m \u001b[0mmodule\u001b[0m \u001b[0;32min\u001b[0m \u001b[0mself\u001b[0m\u001b[0;34m:\u001b[0m\u001b[0;34m\u001b[0m\u001b[0;34m\u001b[0m\u001b[0m\n\u001b[0;32m--> 100\u001b[0;31m             \u001b[0minput\u001b[0m \u001b[0;34m=\u001b[0m \u001b[0mmodule\u001b[0m\u001b[0;34m(\u001b[0m\u001b[0minput\u001b[0m\u001b[0;34m)\u001b[0m\u001b[0;34m\u001b[0m\u001b[0;34m\u001b[0m\u001b[0m\n\u001b[0m\u001b[1;32m    101\u001b[0m         \u001b[0;32mreturn\u001b[0m \u001b[0minput\u001b[0m\u001b[0;34m\u001b[0m\u001b[0;34m\u001b[0m\u001b[0m\n\u001b[1;32m    102\u001b[0m \u001b[0;34m\u001b[0m\u001b[0m\n",
            "\u001b[0;32m/usr/local/lib/python3.6/dist-packages/torch/nn/modules/module.py\u001b[0m in \u001b[0;36m__call__\u001b[0;34m(self, *input, **kwargs)\u001b[0m\n\u001b[1;32m    530\u001b[0m             \u001b[0mresult\u001b[0m \u001b[0;34m=\u001b[0m \u001b[0mself\u001b[0m\u001b[0;34m.\u001b[0m\u001b[0m_slow_forward\u001b[0m\u001b[0;34m(\u001b[0m\u001b[0;34m*\u001b[0m\u001b[0minput\u001b[0m\u001b[0;34m,\u001b[0m \u001b[0;34m**\u001b[0m\u001b[0mkwargs\u001b[0m\u001b[0;34m)\u001b[0m\u001b[0;34m\u001b[0m\u001b[0;34m\u001b[0m\u001b[0m\n\u001b[1;32m    531\u001b[0m         \u001b[0;32melse\u001b[0m\u001b[0;34m:\u001b[0m\u001b[0;34m\u001b[0m\u001b[0;34m\u001b[0m\u001b[0m\n\u001b[0;32m--> 532\u001b[0;31m             \u001b[0mresult\u001b[0m \u001b[0;34m=\u001b[0m \u001b[0mself\u001b[0m\u001b[0;34m.\u001b[0m\u001b[0mforward\u001b[0m\u001b[0;34m(\u001b[0m\u001b[0;34m*\u001b[0m\u001b[0minput\u001b[0m\u001b[0;34m,\u001b[0m \u001b[0;34m**\u001b[0m\u001b[0mkwargs\u001b[0m\u001b[0;34m)\u001b[0m\u001b[0;34m\u001b[0m\u001b[0;34m\u001b[0m\u001b[0m\n\u001b[0m\u001b[1;32m    533\u001b[0m         \u001b[0;32mfor\u001b[0m \u001b[0mhook\u001b[0m \u001b[0;32min\u001b[0m \u001b[0mself\u001b[0m\u001b[0;34m.\u001b[0m\u001b[0m_forward_hooks\u001b[0m\u001b[0;34m.\u001b[0m\u001b[0mvalues\u001b[0m\u001b[0;34m(\u001b[0m\u001b[0;34m)\u001b[0m\u001b[0;34m:\u001b[0m\u001b[0;34m\u001b[0m\u001b[0;34m\u001b[0m\u001b[0m\n\u001b[1;32m    534\u001b[0m             \u001b[0mhook_result\u001b[0m \u001b[0;34m=\u001b[0m \u001b[0mhook\u001b[0m\u001b[0;34m(\u001b[0m\u001b[0mself\u001b[0m\u001b[0;34m,\u001b[0m \u001b[0minput\u001b[0m\u001b[0;34m,\u001b[0m \u001b[0mresult\u001b[0m\u001b[0;34m)\u001b[0m\u001b[0;34m\u001b[0m\u001b[0;34m\u001b[0m\u001b[0m\n",
            "\u001b[0;32m/usr/local/lib/python3.6/dist-packages/torch/nn/modules/conv.py\u001b[0m in \u001b[0;36mforward\u001b[0;34m(self, input)\u001b[0m\n\u001b[1;32m    343\u001b[0m \u001b[0;34m\u001b[0m\u001b[0m\n\u001b[1;32m    344\u001b[0m     \u001b[0;32mdef\u001b[0m \u001b[0mforward\u001b[0m\u001b[0;34m(\u001b[0m\u001b[0mself\u001b[0m\u001b[0;34m,\u001b[0m \u001b[0minput\u001b[0m\u001b[0;34m)\u001b[0m\u001b[0;34m:\u001b[0m\u001b[0;34m\u001b[0m\u001b[0;34m\u001b[0m\u001b[0m\n\u001b[0;32m--> 345\u001b[0;31m         \u001b[0;32mreturn\u001b[0m \u001b[0mself\u001b[0m\u001b[0;34m.\u001b[0m\u001b[0mconv2d_forward\u001b[0m\u001b[0;34m(\u001b[0m\u001b[0minput\u001b[0m\u001b[0;34m,\u001b[0m \u001b[0mself\u001b[0m\u001b[0;34m.\u001b[0m\u001b[0mweight\u001b[0m\u001b[0;34m)\u001b[0m\u001b[0;34m\u001b[0m\u001b[0;34m\u001b[0m\u001b[0m\n\u001b[0m\u001b[1;32m    346\u001b[0m \u001b[0;34m\u001b[0m\u001b[0m\n\u001b[1;32m    347\u001b[0m \u001b[0;32mclass\u001b[0m \u001b[0mConv3d\u001b[0m\u001b[0;34m(\u001b[0m\u001b[0m_ConvNd\u001b[0m\u001b[0;34m)\u001b[0m\u001b[0;34m:\u001b[0m\u001b[0;34m\u001b[0m\u001b[0;34m\u001b[0m\u001b[0m\n",
            "\u001b[0;32m/usr/local/lib/python3.6/dist-packages/torch/nn/modules/conv.py\u001b[0m in \u001b[0;36mconv2d_forward\u001b[0;34m(self, input, weight)\u001b[0m\n\u001b[1;32m    340\u001b[0m                             _pair(0), self.dilation, self.groups)\n\u001b[1;32m    341\u001b[0m         return F.conv2d(input, weight, self.bias, self.stride,\n\u001b[0;32m--> 342\u001b[0;31m                         self.padding, self.dilation, self.groups)\n\u001b[0m\u001b[1;32m    343\u001b[0m \u001b[0;34m\u001b[0m\u001b[0m\n\u001b[1;32m    344\u001b[0m     \u001b[0;32mdef\u001b[0m \u001b[0mforward\u001b[0m\u001b[0;34m(\u001b[0m\u001b[0mself\u001b[0m\u001b[0;34m,\u001b[0m \u001b[0minput\u001b[0m\u001b[0;34m)\u001b[0m\u001b[0;34m:\u001b[0m\u001b[0;34m\u001b[0m\u001b[0;34m\u001b[0m\u001b[0m\n",
            "\u001b[0;31mRuntimeError\u001b[0m: Expected 4-dimensional input for 4-dimensional weight 6 1 3 3, but got 2-dimensional input of size [10, 20530] instead"
          ]
        }
      ]
    },
    {
      "cell_type": "code",
      "metadata": {
        "id": "zz9hsewZNfjE",
        "colab_type": "code",
        "colab": {}
      },
      "source": [
        "# Visualize Before/After:\n",
        "# The dreamed image is on the right of the corresponding original image\n",
        "\n",
        "fig, axs = plt.subplots(4, 4, figsize=(10, 10))\n",
        "fig.suptitle(\"Deep Dreaming numbers \" + str(idx))\n",
        "for i in range(4):\n",
        "  for j in range(2):\n",
        "    axs[i, 2*j].imshow(images[2*i + j].detach())\n",
        "    axs[i, 2*j].axis('off')\n",
        "    axs[i, 2*j+1].imshow(img[2*i + j].detach())\n",
        "    axs[i, 2*j+1].axis('off')\n",
        "plt.show()"
      ],
      "execution_count": 0,
      "outputs": []
    }
  ]
}